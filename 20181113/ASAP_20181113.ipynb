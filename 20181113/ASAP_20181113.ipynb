{
 "cells": [
  {
   "cell_type": "markdown",
   "metadata": {},
   "source": [
    "# Mouse disease phase detection program using CNN with Keras api"
   ]
  },
  {
   "cell_type": "markdown",
   "metadata": {},
   "source": [
    "## Training Phase"
   ]
  },
  {
   "cell_type": "markdown",
   "metadata": {},
   "source": [
    "(1) 사용할 패키지 불러오기"
   ]
  },
  {
   "cell_type": "code",
   "execution_count": 18,
   "metadata": {
    "scrolled": true
   },
   "outputs": [],
   "source": [
    "import numpy as np\n",
    "import keras\n",
    "%matplotlib inline\n",
    "import matplotlib.pyplot as plt\n",
    "from keras.preprocessing.image import ImageDataGenerator\n",
    "from keras.models import Sequential\n",
    "from keras.layers import Dense\n",
    "from keras.layers import Flatten\n",
    "from keras.layers import Activation\n",
    "from keras.layers.convolutional import Conv2D\n",
    "from keras.layers.convolutional import MaxPooling2D\n",
    "from keras.utils.vis_utils import plot_model\n",
    "from keras.models import load_model\n",
    "from keras.utils import np_utils"
   ]
  },
  {
   "cell_type": "markdown",
   "metadata": {},
   "source": [
    "(2) 데이터 셋 불러오기 & 생성하기"
   ]
  },
  {
   "cell_type": "code",
   "execution_count": 66,
   "metadata": {},
   "outputs": [
    {
     "name": "stdout",
     "output_type": "stream",
     "text": [
      "Found 54 images belonging to 2 classes.\n",
      "Found 27 images belonging to 2 classes.\n"
     ]
    }
   ],
   "source": [
    "# 훈련셋과 시험셋 불러오기\n",
    "#(x_train, y_train), (x_test, y_test) = mnist.load_data()\n",
    "#x_train = x_train.reshape(60000, width, height, 1).astype('float32') / 255.0\n",
    "#x_test = x_test.reshape(10000, width, height, 1).astype('float32') / 255.0\n",
    "# 훈련셋과 검증셋 분리 #분리 기점 test 할것 할당 50000 이렇게.\n",
    "#x_val = x_train[50000:]\n",
    "#y_val = y_train[50000:]\n",
    "#x_train = x_train[:50000]\n",
    "#y_train = y_train[:50000]\n",
    "\n",
    "# Multi. 데이터셋 생성하기\n",
    "# 데이터셋 전처리 : one-hot 인코딩\n",
    "#y_train = np_utils.to_categorical(y_train)\n",
    "#y_val = np_utils.to_categorical(y_val)\n",
    "#y_test = np_utils.to_categorical(y_test)\n",
    "\n",
    "# Binary1. 이터셋 생성하기\n",
    "# 데이터셋 전처리 : 홀수는 1, 짝수는 0으로 변환\n",
    "#y_train = y_train % 2\n",
    "#y_val = y_val % 2\n",
    "#y_test = y_test % 2\n",
    "\n",
    "np.random.seed(3)\n",
    "\n",
    "train_datagen = ImageDataGenerator(rescale = 1./255,\n",
    "                                   rotation_range = 10,\n",
    "                                   width_shift_range = 10,\n",
    "                                   height_shift_range = 0.2,\n",
    "                                   shear_range = 0.7,\n",
    "                                   zoom_range = [0.9, 2.2],\n",
    "                                   horizontal_flip = True,\n",
    "                                   vertical_flip = True,\n",
    "                                   fill_mode = 'nearest')\n",
    "\n",
    "train_generator = train_datagen.flow_from_directory('OpenFieldTest/Training',\n",
    "                                                    target_size = (40,40), #픽셀 사이즈 선정 필요\n",
    "                                                    batch_size = 3,\n",
    "                                                    class_mode = 'categorical')\n",
    "\n",
    "test_datagen = ImageDataGenerator(rescale = 1./255)\n",
    "\n",
    "test_generator = test_datagen.flow_from_directory('OpenFieldTest/Validation',\n",
    "                                                  target_size = (40,40), #픽셀 사이즈 선정 필요\n",
    "                                                  batch_size = 3,\n",
    "                                                  class_mode = 'categorical')"
   ]
  },
  {
   "cell_type": "markdown",
   "metadata": {},
   "source": [
    "(cf) 예측할 데이터 샘플 보이기"
   ]
  },
  {
   "cell_type": "code",
   "execution_count": 68,
   "metadata": {},
   "outputs": [
    {
     "data": {
      "image/png": "[encoded data removed]",
      "text/plain": [
       "<Figure size 720x720 with 1 Axes>"
      ]
     },
     "metadata": {
      "needs_background": "light"
     },
     "output_type": "display_data"
    },
    {
     "data": {
      "image/png": "[encoded data removed]",
      "text/plain": [
       "<Figure size 720x720 with 1 Axes>"
      ]
     },
     "metadata": {
      "needs_background": "light"
     },
     "output_type": "display_data"
    }
   ],
   "source": [
    "# Binary Sample Visualization\n",
    "x_batch, y_batch = next(train_generator)\n",
    "\n",
    "for i in range (0,2):\n",
    "    image = x_batch[i]\n",
    "    plt.imshow(image)\n",
    "    plt.show()\n",
    "\n",
    "import matplotlib.image as mpimg\n",
    "img=mpimg.imread('OpenFieldTest/Training/WT/WT_1-0_Set2_Center_ctrl401.png')#데이터 입력\n",
    "img.shape\n",
    "imgplot = plt.imshow(img)\n",
    "\n",
    "for i in range(5*5):\n",
    "    sub_plt = axarr[int(i/x), int(i%5)]\n",
    "    sub_plt.axis('off')\n",
    "\n",
    "\n",
    "\n",
    "\n",
    "#plt_row = 3\n",
    "#plt_col = 3\n",
    "\n",
    "#plt.rcParams[\"figure.figsize\"] = (10,10)\n",
    "\n",
    "#f, axarr = plt.subplots(plt_row, plt_col)\n",
    "\n",
    "#for i in range(plt_row*plt_col):\n",
    "#    sub_plt = axarr[int(i/plt_row), int(i%plt_col)]\n",
    "#    sub_plt.axis('off')\n",
    "#    sub_plt.imshow(train_generator[i])\n",
    "\n",
    "#plt.show()\n",
    "\n",
    "\n",
    "\n",
    "# Multinary Sample Visualization\n",
    "# %matplotlib inline\n",
    "# import matplotlib.pyplot as plt\n",
    "\n",
    "# plt_row = 5\n",
    "# plt_col = 5\n",
    "\n",
    "# plt.rcParams[\"figure.figsize\"] = (10,10)\n",
    "\n",
    "# f, axarr = plt.subplots(plt_row, plt_col)\n",
    "\n",
    "# for i in range(plt_row*plt_col):\n",
    "\n",
    "#    sub_plt = axarr[i/plt_row, i%plt_col]\n",
    "#    sub_plt.axis('off')\n",
    "#    sub_plt.imshow(x_test[i].reshape(width, height))\n",
    "#    sub_plt_title = 'R: ' + str(np.argmax(y_test[i]))\n",
    "#    sub_plt.set_title(sub_plt_title)\n",
    "\n",
    "# plt.show()\n",
    "\n",
    "# Put the image data any folder(label) you want.\n",
    "# img=mpimg.imread ('ASAP/OpenFieldTest/Train/WT/001.jpg')#데이터 입력\n",
    "# img.shape\n",
    "# imgplot = plt.imshow(img)\n",
    "# plt.colorbar()\n",
    "\n",
    "# img2=mpimg.imread ('ASAP/OpenFieldTest/Train/5XFAD/001.jpg')#데이터 입력\n",
    "# img.shape\n",
    "# imgplot = plt.imshow(img2)\n",
    "# plt.colorbar()"
   ]
  },
  {
   "cell_type": "markdown",
   "metadata": {},
   "source": [
    "(3) 학습 모델 구성하기"
   ]
  },
  {
   "cell_type": "code",
   "execution_count": 22,
   "metadata": {},
   "outputs": [],
   "source": [
    "# Multi2. 모델 구성하기\n",
    "# model = Sequential()\n",
    "# model.add(Conv2D(32, (3, 3), activation='relu', input_shape=(width, height, 1)))\n",
    "# model.add(Conv2D(32, (3, 3), activation='relu'))\n",
    "# model.add(MaxPooling2D(pool_size=(2, 2)))\n",
    "# model.add(Dropout(0.25))\n",
    "# model.add(Conv2D(64, (3, 3), activation='relu'))\n",
    "# model.add(Conv2D(64, (3, 3), activation='relu'))\n",
    "# model.add(MaxPooling2D(pool_size=(2, 2)))\n",
    "# model.add(Dropout(0.25))\n",
    "# model.add(Flatten())\n",
    "# model.add(Dense(256, activation='relu'))\n",
    "# model.add(Dropout(0.5))\n",
    "# model.add(Dense(10, activation='softmax')) # 다중 분류시\n",
    "\n",
    "# Binary2. 모델 구성하기\n",
    "# model = Sequential()\n",
    "# model.add(Conv2D(32, (3, 3), activation='relu', input_shape=(width, height, 1)))\n",
    "# model.add(Conv2D(32, (3, 3), activation='relu'))\n",
    "# model.add(MaxPooling2D(pool_size=(2, 2)))\n",
    "# model.add(Dropout(0.25))\n",
    "# model.add(Conv2D(64, (3, 3), activation='relu'))\n",
    "# model.add(Conv2D(64, (3, 3), activation='relu'))\n",
    "# model.add(MaxPooling2D(pool_size=(2, 2)))\n",
    "# model.add(Dropout(0.25))\n",
    "# model.add(Flatten())\n",
    "# model.add(Dense(256, activation='relu'))\n",
    "# model.add(Dropout(0.5))\n",
    "# model.add(Dense(1, activation='sigmoid')) # 2진 분류시\n",
    "\n",
    "model = Sequential()\n",
    "model.add(Conv2D(32, (3, 3), activation='relu', input_shape=(32, 32, 3)))\n",
    "model.add(MaxPooling2D(pool_size=(2, 2)))\n",
    "model.add(Conv2D(32, (3, 3), activation='relu'))\n",
    "model.add(MaxPooling2D(pool_size=(2, 2)))\n",
    "model.add(Flatten())\n",
    "model.add(Dense(128, activation='relu'))\n",
    "model.add(Dense(2, activation='softmax'))"
   ]
  },
  {
   "cell_type": "markdown",
   "metadata": {},
   "source": [
    "(4) 모델 학습과정 설정하기"
   ]
  },
  {
   "cell_type": "code",
   "execution_count": 23,
   "metadata": {},
   "outputs": [],
   "source": [
    "# Multinary 3. 모델 학습과정 설정하기\n",
    "#model.compile(loss='categorical_crossentropy', optimizer='sgd', metrics=['accuracy'])\n",
    "\n",
    "# Binary3. 모델 학습과정 설정하기\n",
    "#model.compile(loss='binary_crossentropy', optimizer='sgd', metrics=['accuracy'])\n",
    "\n",
    "model.compile(loss = 'categorical_crossentropy', optimizer = 'adam', metrics=['accuracy'])"
   ]
  },
  {
   "cell_type": "markdown",
   "metadata": {},
   "source": [
    "(5) 학습 모델 표시하기"
   ]
  },
  {
   "cell_type": "code",
   "execution_count": 24,
   "metadata": {},
   "outputs": [
    {
     "name": "stdout",
     "output_type": "stream",
     "text": [
      "_________________________________________________________________\n",
      "Layer (type)                 Output Shape              Param #   \n",
      "=================================================================\n",
      "conv2d_3 (Conv2D)            (None, 30, 30, 32)        896       \n",
      "_________________________________________________________________\n",
      "max_pooling2d_3 (MaxPooling2 (None, 15, 15, 32)        0         \n",
      "_________________________________________________________________\n",
      "conv2d_4 (Conv2D)            (None, 13, 13, 32)        9248      \n",
      "_________________________________________________________________\n",
      "max_pooling2d_4 (MaxPooling2 (None, 6, 6, 32)          0         \n",
      "_________________________________________________________________\n",
      "flatten_2 (Flatten)          (None, 1152)              0         \n",
      "_________________________________________________________________\n",
      "dense_3 (Dense)              (None, 128)               147584    \n",
      "_________________________________________________________________\n",
      "dense_4 (Dense)              (None, 2)                 258       \n",
      "=================================================================\n",
      "Total params: 157,986\n",
      "Trainable params: 157,986\n",
      "Non-trainable params: 0\n",
      "_________________________________________________________________\n"
     ]
    }
   ],
   "source": [
    "plot_model(model, to_file='model.png', show_shapes =True, show_layer_names = True, rankdir = 'TB')\n",
    "model.summary()"
   ]
  },
  {
   "cell_type": "markdown",
   "metadata": {},
   "source": [
    "(6) 모델 학습시키기"
   ]
  },
  {
   "cell_type": "code",
   "execution_count": 25,
   "metadata": {},
   "outputs": [
    {
     "name": "stdout",
     "output_type": "stream",
     "text": [
      "Epoch 1/100\n",
      "50/50 [==============================] - 1s 17ms/step - loss: 0.6951 - acc: 0.5467 - val_loss: 0.6316 - val_acc: 0.6667\n",
      "Epoch 2/100\n",
      "50/50 [==============================] - 1s 11ms/step - loss: 0.6518 - acc: 0.6733 - val_loss: 0.6834 - val_acc: 0.6667\n",
      "Epoch 3/100\n",
      "50/50 [==============================] - 1s 10ms/step - loss: 0.6964 - acc: 0.6133 - val_loss: 0.6680 - val_acc: 0.6000\n",
      "Epoch 4/100\n",
      "50/50 [==============================] - 0s 10ms/step - loss: 0.6749 - acc: 0.6000 - val_loss: 0.6664 - val_acc: 0.6000\n",
      "Epoch 5/100\n",
      "50/50 [==============================] - 0s 8ms/step - loss: 0.6536 - acc: 0.6467 - val_loss: 0.6074 - val_acc: 0.7333\n",
      "Epoch 6/100\n",
      "50/50 [==============================] - 0s 10ms/step - loss: 0.6646 - acc: 0.6267 - val_loss: 0.7119 - val_acc: 0.4667\n",
      "Epoch 7/100\n",
      "50/50 [==============================] - 1s 10ms/step - loss: 0.6606 - acc: 0.6333 - val_loss: 0.5712 - val_acc: 0.7333\n",
      "Epoch 8/100\n",
      "50/50 [==============================] - 0s 10ms/step - loss: 0.6658 - acc: 0.6200 - val_loss: 0.6133 - val_acc: 0.6667\n",
      "Epoch 9/100\n",
      "50/50 [==============================] - 0s 8ms/step - loss: 0.6473 - acc: 0.6267 - val_loss: 0.6943 - val_acc: 0.5333\n",
      "Epoch 10/100\n",
      "50/50 [==============================] - 0s 9ms/step - loss: 0.6650 - acc: 0.6200 - val_loss: 0.6184 - val_acc: 0.6667\n",
      "Epoch 11/100\n",
      "50/50 [==============================] - 0s 9ms/step - loss: 0.6480 - acc: 0.6333 - val_loss: 0.6141 - val_acc: 0.7333\n",
      "Epoch 12/100\n",
      "50/50 [==============================] - 0s 8ms/step - loss: 0.6559 - acc: 0.6133 - val_loss: 0.6659 - val_acc: 0.6667\n",
      "Epoch 13/100\n",
      "50/50 [==============================] - 1s 12ms/step - loss: 0.6422 - acc: 0.6333 - val_loss: 0.6497 - val_acc: 0.6000\n",
      "Epoch 14/100\n",
      "50/50 [==============================] - 0s 9ms/step - loss: 0.6581 - acc: 0.6467 - val_loss: 0.6407 - val_acc: 0.6000\n",
      "Epoch 15/100\n",
      "50/50 [==============================] - 1s 11ms/step - loss: 0.6437 - acc: 0.6267 - val_loss: 0.7351 - val_acc: 0.5333\n",
      "Epoch 16/100\n",
      "50/50 [==============================] - 0s 8ms/step - loss: 0.6369 - acc: 0.6400 - val_loss: 0.5946 - val_acc: 0.7333\n",
      "Epoch 17/100\n",
      "50/50 [==============================] - 1s 12ms/step - loss: 0.6204 - acc: 0.6467 - val_loss: 0.6559 - val_acc: 0.6667\n",
      "Epoch 18/100\n",
      "50/50 [==============================] - 0s 8ms/step - loss: 0.6420 - acc: 0.6400 - val_loss: 0.6643 - val_acc: 0.7333\n",
      "Epoch 19/100\n",
      "50/50 [==============================] - 0s 9ms/step - loss: 0.6088 - acc: 0.6600 - val_loss: 0.6366 - val_acc: 0.7333\n",
      "Epoch 20/100\n",
      "50/50 [==============================] - 0s 9ms/step - loss: 0.6696 - acc: 0.6200 - val_loss: 0.6886 - val_acc: 0.6000\n",
      "Epoch 21/100\n",
      "50/50 [==============================] - 0s 9ms/step - loss: 0.6453 - acc: 0.6800 - val_loss: 0.6282 - val_acc: 0.6667\n",
      "Epoch 22/100\n",
      "50/50 [==============================] - 0s 9ms/step - loss: 0.6099 - acc: 0.6800 - val_loss: 0.6298 - val_acc: 0.8000\n",
      "Epoch 23/100\n",
      "50/50 [==============================] - 0s 8ms/step - loss: 0.6226 - acc: 0.6467 - val_loss: 0.6458 - val_acc: 0.7333\n",
      "Epoch 24/100\n",
      "50/50 [==============================] - 0s 10ms/step - loss: 0.6167 - acc: 0.6600 - val_loss: 0.6693 - val_acc: 0.8000\n",
      "Epoch 25/100\n",
      "50/50 [==============================] - 1s 10ms/step - loss: 0.5953 - acc: 0.7267 - val_loss: 0.6181 - val_acc: 0.6000\n",
      "Epoch 26/100\n",
      "50/50 [==============================] - 0s 10ms/step - loss: 0.6271 - acc: 0.7067 - val_loss: 0.5400 - val_acc: 0.6667\n",
      "Epoch 27/100\n",
      "50/50 [==============================] - 0s 8ms/step - loss: 0.6433 - acc: 0.6733 - val_loss: 0.7351 - val_acc: 0.6667\n",
      "Epoch 28/100\n",
      "50/50 [==============================] - 0s 9ms/step - loss: 0.6406 - acc: 0.6333 - val_loss: 0.5606 - val_acc: 0.8000\n",
      "Epoch 29/100\n",
      "50/50 [==============================] - 0s 9ms/step - loss: 0.6235 - acc: 0.6400 - val_loss: 0.7737 - val_acc: 0.5333\n",
      "Epoch 30/100\n",
      "50/50 [==============================] - 0s 9ms/step - loss: 0.6082 - acc: 0.6867 - val_loss: 0.6878 - val_acc: 0.6667\n",
      "Epoch 31/100\n",
      "50/50 [==============================] - 0s 9ms/step - loss: 0.5956 - acc: 0.6667 - val_loss: 0.6480 - val_acc: 0.6667\n",
      "Epoch 32/100\n",
      "50/50 [==============================] - 0s 9ms/step - loss: 0.6209 - acc: 0.6533 - val_loss: 0.6817 - val_acc: 0.7333\n",
      "Epoch 33/100\n",
      "50/50 [==============================] - 1s 11ms/step - loss: 0.6038 - acc: 0.6933 - val_loss: 0.7187 - val_acc: 0.5333\n",
      "Epoch 34/100\n",
      "50/50 [==============================] - 0s 9ms/step - loss: 0.5766 - acc: 0.7400 - val_loss: 0.5553 - val_acc: 0.6667\n",
      "Epoch 35/100\n",
      "50/50 [==============================] - 1s 11ms/step - loss: 0.5961 - acc: 0.6933 - val_loss: 0.5789 - val_acc: 0.6667\n",
      "Epoch 36/100\n",
      "50/50 [==============================] - 0s 8ms/step - loss: 0.5794 - acc: 0.7267 - val_loss: 0.7231 - val_acc: 0.5333\n",
      "Epoch 37/100\n",
      "50/50 [==============================] - 0s 9ms/step - loss: 0.5859 - acc: 0.7133 - val_loss: 0.6942 - val_acc: 0.7333\n",
      "Epoch 38/100\n",
      "50/50 [==============================] - 0s 10ms/step - loss: 0.5636 - acc: 0.7067 - val_loss: 0.6061 - val_acc: 0.5333\n",
      "Epoch 39/100\n",
      "50/50 [==============================] - 0s 10ms/step - loss: 0.5655 - acc: 0.7333 - val_loss: 0.6472 - val_acc: 0.5333\n",
      "Epoch 40/100\n",
      "50/50 [==============================] - 1s 10ms/step - loss: 0.5587 - acc: 0.7200 - val_loss: 0.7834 - val_acc: 0.5333\n",
      "Epoch 41/100\n",
      "50/50 [==============================] - 0s 8ms/step - loss: 0.5787 - acc: 0.6800 - val_loss: 0.6507 - val_acc: 0.8000\n",
      "Epoch 42/100\n",
      "50/50 [==============================] - 1s 10ms/step - loss: 0.5676 - acc: 0.7000 - val_loss: 0.6795 - val_acc: 0.7333\n",
      "Epoch 43/100\n",
      "50/50 [==============================] - 0s 10ms/step - loss: 0.5549 - acc: 0.7133 - val_loss: 0.7570 - val_acc: 0.5333\n",
      "Epoch 44/100\n",
      "50/50 [==============================] - 1s 11ms/step - loss: 0.5652 - acc: 0.7133 - val_loss: 0.5207 - val_acc: 0.8667\n",
      "Epoch 45/100\n",
      "50/50 [==============================] - 0s 8ms/step - loss: 0.5687 - acc: 0.7067 - val_loss: 0.6441 - val_acc: 0.6667\n",
      "Epoch 46/100\n",
      "50/50 [==============================] - 0s 8ms/step - loss: 0.5254 - acc: 0.7467 - val_loss: 0.7119 - val_acc: 0.7333\n",
      "Epoch 47/100\n",
      "50/50 [==============================] - 0s 9ms/step - loss: 0.5985 - acc: 0.6867 - val_loss: 0.7031 - val_acc: 0.6000\n",
      "Epoch 48/100\n",
      "50/50 [==============================] - 0s 8ms/step - loss: 0.5170 - acc: 0.7467 - val_loss: 0.9908 - val_acc: 0.6667\n",
      "Epoch 49/100\n",
      "50/50 [==============================] - 1s 10ms/step - loss: 0.5294 - acc: 0.7067 - val_loss: 0.6721 - val_acc: 0.8000\n",
      "Epoch 50/100\n",
      "50/50 [==============================] - 0s 8ms/step - loss: 0.5384 - acc: 0.7400 - val_loss: 0.7522 - val_acc: 0.6000\n",
      "Epoch 51/100\n",
      "50/50 [==============================] - 1s 10ms/step - loss: 0.5771 - acc: 0.7200 - val_loss: 0.8552 - val_acc: 0.6000\n",
      "Epoch 52/100\n",
      "50/50 [==============================] - 0s 9ms/step - loss: 0.5245 - acc: 0.7600 - val_loss: 0.5699 - val_acc: 0.6667\n",
      "Epoch 53/100\n",
      "50/50 [==============================] - 0s 9ms/step - loss: 0.5081 - acc: 0.7667 - val_loss: 0.9963 - val_acc: 0.5333\n",
      "Epoch 54/100\n",
      "50/50 [==============================] - 0s 8ms/step - loss: 0.5655 - acc: 0.7267 - val_loss: 0.5395 - val_acc: 0.7333\n",
      "Epoch 55/100\n",
      "50/50 [==============================] - 0s 9ms/step - loss: 0.5206 - acc: 0.7600 - val_loss: 0.7546 - val_acc: 0.6000\n",
      "Epoch 56/100\n",
      "50/50 [==============================] - 1s 11ms/step - loss: 0.5354 - acc: 0.7467 - val_loss: 1.2319 - val_acc: 0.6667\n",
      "Epoch 57/100\n",
      "50/50 [==============================] - 0s 9ms/step - loss: 0.5389 - acc: 0.7267 - val_loss: 0.7163 - val_acc: 0.6667\n",
      "Epoch 58/100\n",
      "50/50 [==============================] - 1s 15ms/step - loss: 0.5420 - acc: 0.7467 - val_loss: 0.5040 - val_acc: 0.8667\n",
      "Epoch 59/100\n",
      "50/50 [==============================] - 1s 11ms/step - loss: 0.5224 - acc: 0.7267 - val_loss: 0.4467 - val_acc: 0.8667\n",
      "Epoch 60/100\n",
      "50/50 [==============================] - 1s 12ms/step - loss: 0.5459 - acc: 0.7400 - val_loss: 0.9584 - val_acc: 0.6000\n",
      "Epoch 61/100\n",
      "50/50 [==============================] - 1s 13ms/step - loss: 0.5225 - acc: 0.7267 - val_loss: 0.4733 - val_acc: 0.7333\n",
      "Epoch 62/100\n",
      "50/50 [==============================] - 0s 10ms/step - loss: 0.4991 - acc: 0.7400 - val_loss: 0.6542 - val_acc: 0.6667\n"
     ]
    },
    {
     "name": "stdout",
     "output_type": "stream",
     "text": [
      "Epoch 63/100\n",
      "50/50 [==============================] - 0s 9ms/step - loss: 0.5448 - acc: 0.7333 - val_loss: 0.8661 - val_acc: 0.6000\n",
      "Epoch 64/100\n",
      "50/50 [==============================] - 0s 8ms/step - loss: 0.5553 - acc: 0.7467 - val_loss: 0.6864 - val_acc: 0.7333\n",
      "Epoch 65/100\n",
      "50/50 [==============================] - 0s 9ms/step - loss: 0.5571 - acc: 0.7200 - val_loss: 0.8300 - val_acc: 0.4000\n",
      "Epoch 66/100\n",
      "50/50 [==============================] - 0s 10ms/step - loss: 0.5168 - acc: 0.7200 - val_loss: 0.5247 - val_acc: 0.7333\n",
      "Epoch 67/100\n",
      "50/50 [==============================] - 1s 10ms/step - loss: 0.5203 - acc: 0.7133 - val_loss: 0.7389 - val_acc: 0.6667\n",
      "Epoch 68/100\n",
      "50/50 [==============================] - 0s 8ms/step - loss: 0.4623 - acc: 0.7867 - val_loss: 0.7197 - val_acc: 0.7333\n",
      "Epoch 69/100\n",
      "50/50 [==============================] - 0s 10ms/step - loss: 0.5356 - acc: 0.7467 - val_loss: 0.7882 - val_acc: 0.6000\n",
      "Epoch 70/100\n",
      "50/50 [==============================] - 0s 8ms/step - loss: 0.5054 - acc: 0.7467 - val_loss: 1.0234 - val_acc: 0.6000\n",
      "Epoch 71/100\n",
      "50/50 [==============================] - 1s 12ms/step - loss: 0.4740 - acc: 0.7467 - val_loss: 0.8613 - val_acc: 0.6000\n",
      "Epoch 72/100\n",
      "50/50 [==============================] - 0s 8ms/step - loss: 0.5205 - acc: 0.7533 - val_loss: 0.9204 - val_acc: 0.6000\n",
      "Epoch 73/100\n",
      "50/50 [==============================] - 0s 9ms/step - loss: 0.5184 - acc: 0.7933 - val_loss: 0.6405 - val_acc: 0.6667\n",
      "Epoch 74/100\n",
      "50/50 [==============================] - 0s 9ms/step - loss: 0.4530 - acc: 0.8000 - val_loss: 0.7068 - val_acc: 0.8000\n",
      "Epoch 75/100\n",
      "50/50 [==============================] - 0s 10ms/step - loss: 0.5082 - acc: 0.7333 - val_loss: 0.5881 - val_acc: 0.5333\n",
      "Epoch 76/100\n",
      "50/50 [==============================] - 1s 10ms/step - loss: 0.5090 - acc: 0.7467 - val_loss: 0.9802 - val_acc: 0.5333\n",
      "Epoch 77/100\n",
      "50/50 [==============================] - 0s 9ms/step - loss: 0.4491 - acc: 0.7667 - val_loss: 0.9270 - val_acc: 0.5333\n",
      "Epoch 78/100\n",
      "50/50 [==============================] - 0s 9ms/step - loss: 0.5060 - acc: 0.7667 - val_loss: 0.9744 - val_acc: 0.7333\n",
      "Epoch 79/100\n",
      "50/50 [==============================] - 0s 8ms/step - loss: 0.4401 - acc: 0.7867 - val_loss: 0.5847 - val_acc: 0.8667\n",
      "Epoch 80/100\n",
      "50/50 [==============================] - 0s 10ms/step - loss: 0.4536 - acc: 0.7933 - val_loss: 0.7075 - val_acc: 0.6667\n",
      "Epoch 81/100\n",
      "50/50 [==============================] - 0s 8ms/step - loss: 0.4732 - acc: 0.7867 - val_loss: 0.6178 - val_acc: 0.7333\n",
      "Epoch 82/100\n",
      "50/50 [==============================] - 0s 9ms/step - loss: 0.5320 - acc: 0.7733 - val_loss: 0.6873 - val_acc: 0.6667\n",
      "Epoch 83/100\n",
      "50/50 [==============================] - 0s 9ms/step - loss: 0.4470 - acc: 0.7733 - val_loss: 0.7634 - val_acc: 0.6000\n",
      "Epoch 84/100\n",
      "50/50 [==============================] - 0s 10ms/step - loss: 0.4821 - acc: 0.7600 - val_loss: 0.7129 - val_acc: 0.7333\n",
      "Epoch 85/100\n",
      "50/50 [==============================] - 1s 11ms/step - loss: 0.4657 - acc: 0.7733 - val_loss: 1.0085 - val_acc: 0.6000\n",
      "Epoch 86/100\n",
      "50/50 [==============================] - 0s 10ms/step - loss: 0.3942 - acc: 0.8200 - val_loss: 0.8979 - val_acc: 0.7333\n",
      "Epoch 87/100\n",
      "50/50 [==============================] - 1s 10ms/step - loss: 0.4633 - acc: 0.7933 - val_loss: 0.8824 - val_acc: 0.7333\n",
      "Epoch 88/100\n",
      "50/50 [==============================] - 0s 9ms/step - loss: 0.4553 - acc: 0.8267 - val_loss: 0.5886 - val_acc: 0.8000\n",
      "Epoch 89/100\n",
      "50/50 [==============================] - 0s 9ms/step - loss: 0.4300 - acc: 0.8133 - val_loss: 0.6929 - val_acc: 0.7333\n",
      "Epoch 90/100\n",
      "50/50 [==============================] - 0s 10ms/step - loss: 0.4391 - acc: 0.7933 - val_loss: 1.0092 - val_acc: 0.6667\n",
      "Epoch 91/100\n",
      "50/50 [==============================] - 0s 9ms/step - loss: 0.4704 - acc: 0.7800 - val_loss: 0.8846 - val_acc: 0.7333\n",
      "Epoch 92/100\n",
      "50/50 [==============================] - 0s 9ms/step - loss: 0.4132 - acc: 0.8133 - val_loss: 0.7862 - val_acc: 0.5333\n",
      "Epoch 93/100\n",
      "50/50 [==============================] - 0s 10ms/step - loss: 0.5069 - acc: 0.7800 - val_loss: 0.8889 - val_acc: 0.7333\n",
      "Epoch 94/100\n",
      "50/50 [==============================] - 1s 10ms/step - loss: 0.4094 - acc: 0.8067 - val_loss: 0.8808 - val_acc: 0.6000\n",
      "Epoch 95/100\n",
      "50/50 [==============================] - 0s 10ms/step - loss: 0.4462 - acc: 0.7733 - val_loss: 0.8493 - val_acc: 0.6000\n",
      "Epoch 96/100\n",
      "50/50 [==============================] - 1s 11ms/step - loss: 0.4118 - acc: 0.7933 - val_loss: 0.6892 - val_acc: 0.6667\n",
      "Epoch 97/100\n",
      "50/50 [==============================] - 0s 8ms/step - loss: 0.3831 - acc: 0.8200 - val_loss: 1.3497 - val_acc: 0.4667\n",
      "Epoch 98/100\n",
      "50/50 [==============================] - 0s 10ms/step - loss: 0.4578 - acc: 0.8067 - val_loss: 0.9011 - val_acc: 0.6667\n",
      "Epoch 99/100\n",
      "50/50 [==============================] - 0s 8ms/step - loss: 0.4465 - acc: 0.8133 - val_loss: 0.7540 - val_acc: 0.6667\n",
      "Epoch 100/100\n",
      "50/50 [==============================] - 0s 9ms/step - loss: 0.4280 - acc: 0.8067 - val_loss: 0.8069 - val_acc: 0.5333\n"
     ]
    }
   ],
   "source": [
    "# Multinary,Binary4. 모델 학습시키기\n",
    "#hist = model.fit(x_train, y_train, epochs=30, batch_size=32, validation_data=(x_val, y_val))\n",
    "\n",
    "class outputImages(keras.callbacks.Callback):\n",
    "    def __init__(self, input_data):\n",
    "        self.input_data = input_data\n",
    "    \n",
    "    def on_epoch_end(self, epoch, logs={}):\n",
    "        if epoch % 10 == 0:\n",
    "            get_model_layers_output_combined_image(self.model, self.input_data)\n",
    "            \n",
    "output_images = outputImages(keras.callbacks.Callback)\n",
    "history = model.fit_generator(\n",
    "        train_generator,\n",
    "        steps_per_epoch=50,\n",
    "        epochs=100,\n",
    "        validation_data=test_generator,\n",
    "        validation_steps=5)"
   ]
  },
  {
   "cell_type": "markdown",
   "metadata": {},
   "source": [
    "(7) 학습모델 모니터링하기"
   ]
  },
  {
   "cell_type": "code",
   "execution_count": 26,
   "metadata": {},
   "outputs": [
    {
     "data": {
      "image/png": "[encoded data removed]",
      "text/plain": [
       "<Figure size 432x288 with 2 Axes>"
      ]
     },
     "metadata": {
      "needs_background": "light"
     },
     "output_type": "display_data"
    }
   ],
   "source": [
    "# Multi&Binary5. 학습과정 살펴보기\n",
    "#%matplotlib inline\n",
    "#import matplotlib.pyplot as plt\n",
    "\n",
    "#fig, loss_ax = plt.subplots()\n",
    "\n",
    "#acc_ax = loss_ax.twinx()\n",
    "\n",
    "#loss_ax.plot(hist.history['loss'], 'y', label='train loss')\n",
    "#loss_ax.plot(hist.history['val_loss'], 'r', label='val loss')\n",
    "#loss_ax.set_ylim([0.0, 0.5])\n",
    "\n",
    "#acc_ax.plot(hist.history['acc'], 'b', label='train acc')\n",
    "#acc_ax.plot(hist.history['val_acc'], 'g', label='val acc')\n",
    "#acc_ax.set_ylim([0.8, 1.0])\n",
    "\n",
    "#loss_ax.set_xlabel('epoch')\n",
    "#loss_ax.set_ylabel('loss')\n",
    "#acc_ax.set_ylabel('accuray')\n",
    "\n",
    "#loss_ax.legend(loc='upper left')\n",
    "#acc_ax.legend(loc='lower left')\n",
    "\n",
    "#plt.show()\n",
    "\n",
    "fig, loss_ax = plt.subplots()\n",
    "\n",
    "acc_ax = loss_ax.twinx()\n",
    "\n",
    "loss_ax.plot(history.history['loss'], 'y', label='train loss')\n",
    "loss_ax.plot(history.history['val_loss'], 'r', label='val loss')\n",
    "\n",
    "acc_ax.plot(history.history['acc'], 'b', label='train acc')\n",
    "acc_ax.plot(history.history['val_acc'], 'g', label='val acc')\n",
    "\n",
    "loss_ax.set_xlabel('epoch')\n",
    "loss_ax.set_ylabel('loss')\n",
    "acc_ax.set_ylabel('accuracy')\n",
    "\n",
    "loss_ax.legend(loc='upper left')\n",
    "acc_ax.legend(loc='lower left')\n",
    "\n",
    "plt.show()"
   ]
  },
  {
   "cell_type": "markdown",
   "metadata": {},
   "source": [
    "(8) 검증모델 테스트하기"
   ]
  },
  {
   "cell_type": "code",
   "execution_count": 17,
   "metadata": {},
   "outputs": [
    {
     "name": "stdout",
     "output_type": "stream",
     "text": [
      "-- Test --\n",
      "{'AD': 0, 'WT': 1}\n",
      "[[0.367 0.633]\n",
      " [0.986 0.014]\n",
      " [0.498 0.502]\n",
      " [0.546 0.454]\n",
      " [0.890 0.110]\n",
      " [0.989 0.011]\n",
      " [0.986 0.014]\n",
      " [0.690 0.310]\n",
      " [0.333 0.667]\n",
      " [0.271 0.729]\n",
      " [0.071 0.929]\n",
      " [0.443 0.557]\n",
      " [0.998 0.002]\n",
      " [0.151 0.849]\n",
      " [0.329 0.671]]\n"
     ]
    }
   ],
   "source": [
    "print(\"-- Test --\")\n",
    "output = model.predict_generator(test_generator, steps=5)\n",
    "np.set_printoptions(formatter={'float': lambda x: \"{0:0.3f}\".format(x)})\n",
    "print(test_generator.class_indices)\n",
    "print(output)"
   ]
  },
  {
   "cell_type": "markdown",
   "metadata": {},
   "source": [
    "(9) 모델 평가하기"
   ]
  },
  {
   "cell_type": "code",
   "execution_count": null,
   "metadata": {},
   "outputs": [],
   "source": [
    "#Multinary, Binary 6. 모델 평가하기\n",
    "#loss_and_metrics = model.evaluate(x_test, y_test, batch_size=32)\n",
    "#print('## evaluation loss and_metrics ##')\n",
    "#print(loss_and_metrics)\n",
    "\n",
    "print(\"-- Evaluate --\")\n",
    "scores = model.evaluate_generator(test_generator, steps=5)\n",
    "print(\"%s: %.2f%%\" %(model.metrics_names[1], scores[1]*100))"
   ]
  },
  {
   "cell_type": "markdown",
   "metadata": {},
   "source": [
    "(10) 모델 구조 및 학습된 모델 가중치 저장하기"
   ]
  },
  {
   "cell_type": "code",
   "execution_count": null,
   "metadata": {},
   "outputs": [],
   "source": [
    "model.save('ASAP_weight.h5')\n",
    "with open('model_architecture.json', 'w') as f:\n",
    "    f.write(model.to_json())\n"
   ]
  },
  {
   "cell_type": "markdown",
   "metadata": {},
   "source": [
    "(11) 모델 사용하기"
   ]
  },
  {
   "cell_type": "code",
   "execution_count": null,
   "metadata": {},
   "outputs": [],
   "source": [
    "#Mulyinary 7. 모델 사용하기, 틀린것 만 보이기\n",
    "#yhat_test = model.predict(x_test, batch_size=32)\n",
    "\n",
    "#%matplotlib inline\n",
    "#import matplotlib.pyplot as plt\n",
    "\n",
    "#plt_row = 5\n",
    "#plt_col = 5\n",
    "\n",
    "#plt.rcParams[\"figure.figsize\"] = (10,10)\n",
    "\n",
    "#f, axarr = plt.subplots(plt_row, plt_col)\n",
    "\n",
    "#cnt = 0\n",
    "#i = 0\n",
    "\n",
    "#while cnt < (plt_row*plt_col):\n",
    "    \n",
    "#    if np.argmax(y_test[i]) == np.argmax(yhat_test[i]):\n",
    "#        i += 1\n",
    "#        continue\n",
    "    \n",
    " #   sub_plt = axarr[cnt//plt_row, cnt%plt_col]\n",
    " #   sub_plt.axis('off')\n",
    " #   sub_plt.imshow(x_test[i].reshape(width, height))\n",
    " #   sub_plt_title = 'R: ' + str(np.argmax(y_test[i])) + ' P: ' + str(np.argmax(yhat_test[i]))\n",
    " #   sub_plt.set_title(sub_plt_title)\n",
    "\n",
    "  #  i += 1    \n",
    "  #  cnt += 1\n",
    "\n",
    "#plt.show()\n",
    "\n",
    "#Binary 7. 모델 사용하기, 홀짝\n",
    "#yhat_test = model.predict(x_test, batch_size=32)\n",
    "\n",
    "#%matplotlib inline\n",
    "#import matplotlib.pyplot as plt\n",
    "\n",
    "#plt_row = 5\n",
    "#plt_col = 5\n",
    "\n",
    "#plt.rcParams[\"figure.figsize\"] = (10,10)\n",
    "\n",
    "#f, axarr = plt.subplots(plt_row, plt_col)\n",
    "\n",
    "#for i in range(plt_row*plt_col):\n",
    "#    sub_plt = axarr[int(i/plt_row), int(i%plt_col)]\n",
    "#    sub_plt.axis('off')\n",
    "#    sub_plt.imshow(x_test[i].reshape(width, height))\n",
    "    \n",
    "#    sub_plt_title = 'R: '\n",
    "    \n",
    "#    if y_test[i] :\n",
    "#        sub_plt_title += 'odd '\n",
    "#    else:\n",
    "#        sub_plt_title += 'even '\n",
    "\n",
    "#    sub_plt_title += 'P: '\n",
    "    \n",
    "#    if yhat_test[i] >= 0.5 :\n",
    "#        sub_plt_title += 'odd '\n",
    "#    else:\n",
    "#        sub_plt_title += 'even '        \n",
    "    \n",
    "#    sub_plt.set_title(sub_plt_title)\n",
    "\n",
    "#plt.show()"
   ]
  },
  {
   "cell_type": "markdown",
   "metadata": {},
   "source": [
    "# Execution Phase"
   ]
  },
  {
   "cell_type": "markdown",
   "metadata": {},
   "source": [
    "(1) 사용할 패키지 불러오기"
   ]
  },
  {
   "cell_type": "code",
   "execution_count": null,
   "metadata": {},
   "outputs": [],
   "source": [
    "# import numpy as np\n",
    "# import matplotlib.pyplot as plt\n",
    "# %matplotlib inline\n",
    "# import matplotlib.image as mpimg\n",
    "# from keras.preprocessing.image import ImageDataGenerator"
   ]
  },
  {
   "cell_type": "markdown",
   "metadata": {},
   "source": [
    "(2) 예측할 데이터 생성하기"
   ]
  },
  {
   "cell_type": "code",
   "execution_count": null,
   "metadata": {},
   "outputs": [],
   "source": [
    "# new_datagen = ImageDataGenerator(rescale = 1./255)\n",
    "\n",
    "# new_generator = new_datagen.flow_from_directory('rawData/new',\n",
    "#                                                  target_size = (32,32),\n",
    "#                                                  batch_size = 3,\n",
    "#                                                  class_mode = 'categorical')"
   ]
  },
  {
   "cell_type": "markdown",
   "metadata": {},
   "source": [
    "(3) 저장된 학습 모델 및 가중치 불러오기"
   ]
  },
  {
   "cell_type": "code",
   "execution_count": null,
   "metadata": {},
   "outputs": [],
   "source": [
    "# from keras.models import model_from_json\n",
    "\n",
    "# Model reconstruction from JSON file\n",
    "# with open('model_architecture.json', 'r') as f:\n",
    "#    model = model_from_json(f.read())\n",
    "\n",
    "# Load weights into the new model\n",
    "# model.load_weights('ASAP_weight.h5')"
   ]
  },
  {
   "cell_type": "markdown",
   "metadata": {},
   "source": [
    "(4) 예측하기"
   ]
  },
  {
   "cell_type": "code",
   "execution_count": null,
   "metadata": {},
   "outputs": [],
   "source": [
    "# print(\"-- Predict --\")\n",
    "# output = model.predict_generator(new_generator, steps=1)\n",
    "# np.set_printoptions(formatter={'float': lambda x: \"{0:0.3f}\".format(x)})\n",
    "# print(new_generator.class_indices)\n",
    "# print(output) # It doesn't matter with the result which folder you put the new data."
   ]
  }
 ],
 "metadata": {
  "kernelspec": {
   "display_name": "Python 3",
   "language": "python",
   "name": "python3"
  },
  "language_info": {
   "codemirror_mode": {
    "name": "ipython",
    "version": 3
   },
   "file_extension": ".py",
   "mimetype": "text/x-python",
   "name": "python",
   "nbconvert_exporter": "python",
   "pygments_lexer": "ipython3",
   "version": "3.6.6"
  }
 },
 "nbformat": 4,
 "nbformat_minor": 2
}
