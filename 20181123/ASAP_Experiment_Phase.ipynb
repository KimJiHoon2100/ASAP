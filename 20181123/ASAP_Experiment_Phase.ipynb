{
 "cells": [
  {
   "cell_type": "markdown",
   "metadata": {},
   "source": [
    "# ASAP Experiment Execution Phase"
   ]
  },
  {
   "cell_type": "markdown",
   "metadata": {},
   "source": [
    "(1) 사용할 패키지 불러오기"
   ]
  },
  {
   "cell_type": "code",
   "execution_count": 86,
   "metadata": {},
   "outputs": [],
   "source": [
    "import numpy as np\n",
    "import matplotlib.pyplot as plt\n",
    "%matplotlib inline\n",
    "import matplotlib.image as mpimg\n",
    "from keras.preprocessing.image import ImageDataGenerator"
   ]
  },
  {
   "cell_type": "markdown",
   "metadata": {},
   "source": [
    "(2) 예측할 데이터 생성하기"
   ]
  },
  {
   "cell_type": "code",
   "execution_count": 82,
   "metadata": {},
   "outputs": [
    {
     "name": "stdout",
     "output_type": "stream",
     "text": [
      "Found 8 images belonging to 2 classes.\n",
      "Found 1 images belonging to 2 classes.\n"
     ]
    }
   ],
   "source": [
    "new_datagen = ImageDataGenerator(rescale = 1./255)\n",
    "\n",
    "new_generator = new_datagen.flow_from_directory('data/Experiment',\n",
    "                                                  target_size = (100,100),\n",
    "                                                  batch_size = 3,\n",
    "                                                  class_mode = 'categorical')\n",
    "\n",
    "analysis_datagen = ImageDataGenerator(rescale = 1./255)\n",
    "\n",
    "analysis_generator = analysis_datagen.flow_from_directory('data/Analysis/JB7-2Head',\n",
    "                                                  target_size = (100,100),\n",
    "                                                  batch_size = 3,\n",
    "                                                  class_mode = 'categorical')\n"
   ]
  },
  {
   "cell_type": "markdown",
   "metadata": {},
   "source": [
    "(3) 저장된 학습 모델 및 가중치 불러오기"
   ]
  },
  {
   "cell_type": "code",
   "execution_count": 83,
   "metadata": {},
   "outputs": [],
   "source": [
    "from keras.models import model_from_json\n",
    "\n",
    "#Model reconstruction from JSON fileu5\n",
    "with open('model_architecture.json', 'r') as f:\n",
    "    model = model_from_json(f.read())\n",
    "\n",
    "#    Load weights into the new model\n",
    "model.load_weights('ASAP_weight.h5')"
   ]
  },
  {
   "cell_type": "markdown",
   "metadata": {},
   "source": [
    "(4) 예측하기"
   ]
  },
  {
   "cell_type": "code",
   "execution_count": 84,
   "metadata": {},
   "outputs": [
    {
     "name": "stdout",
     "output_type": "stream",
     "text": [
      "-- Predict --\n",
      "{'TG': 0, 'WT': 1}\n",
      "[[0.269 0.731]\n",
      " [0.444 0.556]\n",
      " [0.497 0.503]\n",
      " [0.264 0.736]\n",
      " [0.497 0.503]\n",
      " [0.340 0.660]\n",
      " [0.238 0.762]\n",
      " [0.385 0.615]\n",
      " [0.264 0.736]\n",
      " [0.340 0.660]\n",
      " [0.444 0.556]\n",
      " [0.497 0.503]\n",
      " [0.497 0.503]\n",
      " [0.269 0.731]]\n"
     ]
    }
   ],
   "source": [
    " print(\"-- Predict --\")\n",
    " output = model.predict_generator(new_generator, steps=5)\n",
    " np.set_printoptions(formatter={'float': lambda x: \"{0:0.3f}\".format(x)})\n",
    " print(new_generator.class_indices)\n",
    " print(output) # It doesn't matter with the result which folder you put the new data."
   ]
  },
  {
   "cell_type": "code",
   "execution_count": 85,
   "metadata": {},
   "outputs": [
    {
     "name": "stdout",
     "output_type": "stream",
     "text": [
      "-- Predict --\n",
      "{'TG': 0, 'WT': 1}\n",
      "[[0.708 0.292]\n",
      " [0.708 0.292]\n",
      " [0.708 0.292]\n",
      " [0.708 0.292]\n",
      " [0.708 0.292]]\n"
     ]
    }
   ],
   "source": [
    " print(\"-- Predict --\")\n",
    " output = model.predict_generator(analysis_generator, steps=5)\n",
    " np.set_printoptions(formatter={'float': lambda x: \"{0:0.3f}\".format(x)})\n",
    " print(analysis_generator.class_indices)\n",
    " print(output) # It doesn't matter with the result which folder you put the new data."
   ]
  },
  {
   "cell_type": "code",
   "execution_count": null,
   "metadata": {},
   "outputs": [],
   "source": []
  },
  {
   "cell_type": "code",
   "execution_count": null,
   "metadata": {},
   "outputs": [],
   "source": []
  }
 ],
 "metadata": {
  "kernelspec": {
   "display_name": "Python [conda env:Anaconda3]",
   "language": "python",
   "name": "conda-env-Anaconda3-py"
  },
  "language_info": {
   "codemirror_mode": {
    "name": "ipython",
    "version": 3
   },
   "file_extension": ".py",
   "mimetype": "text/x-python",
   "name": "python",
   "nbconvert_exporter": "python",
   "pygments_lexer": "ipython3",
   "version": "3.6.4"
  }
 },
 "nbformat": 4,
 "nbformat_minor": 2
}
