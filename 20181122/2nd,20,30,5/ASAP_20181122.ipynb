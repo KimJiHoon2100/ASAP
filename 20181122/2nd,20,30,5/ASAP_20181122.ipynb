{
 "cells": [
  {
   "cell_type": "markdown",
   "metadata": {},
   "source": [
    "# Mouse disease phase detection program using CNN with Keras api"
   ]
  },
  {
   "cell_type": "markdown",
   "metadata": {},
   "source": [
    "## Training Phase"
   ]
  },
  {
   "cell_type": "markdown",
   "metadata": {},
   "source": [
    "(1) 사용할 패키지 불러오기"
   ]
  },
  {
   "cell_type": "code",
   "execution_count": 1,
   "metadata": {
    "scrolled": true
   },
   "outputs": [
    {
     "name": "stderr",
     "output_type": "stream",
     "text": [
      "C:\\ProgramData\\Anaconda3\\lib\\site-packages\\h5py\\__init__.py:36: FutureWarning: Conversion of the second argument of issubdtype from `float` to `np.floating` is deprecated. In future, it will be treated as `np.float64 == np.dtype(float).type`.\n",
      "  from ._conv import register_converters as _register_converters\n",
      "Using TensorFlow backend.\n"
     ]
    }
   ],
   "source": [
    "import numpy as np\n",
    "import keras\n",
    "%matplotlib inline\n",
    "import matplotlib.pyplot as plt\n",
    "from keras.preprocessing.image import ImageDataGenerator\n",
    "from keras.models import Sequential\n",
    "from keras.layers import Dense\n",
    "from keras.layers import Flatten\n",
    "from keras.layers import Activation\n",
    "from keras.layers.convolutional import Conv2D\n",
    "from keras.layers.convolutional import MaxPooling2D\n",
    "from keras.layers import Dropout\n",
    "from keras.utils.vis_utils import plot_model\n",
    "from keras.models import load_model\n",
    "from keras.utils import np_utils"
   ]
  },
  {
   "cell_type": "markdown",
   "metadata": {},
   "source": [
    "(2) 데이터 셋 불러오기 & 생성하기"
   ]
  },
  {
   "cell_type": "code",
   "execution_count": 2,
   "metadata": {},
   "outputs": [
    {
     "name": "stdout",
     "output_type": "stream",
     "text": [
      "Found 41 images belonging to 2 classes.\n",
      "Found 17 images belonging to 2 classes.\n"
     ]
    }
   ],
   "source": [
    "#np.random.seed(3)\n",
    "\n",
    "#train_datagen = ImageDataGenerator(rescale = 1./255)\n",
    "\n",
    "#train_generator = train_datagen.flow_from_directory('OpenFieldTest/Origin/Training',\n",
    "#                                                    target_size = (40,40), #픽셀 사이즈 선정 필요\n",
    "#                                                    batch_size = 3,\n",
    "#                                                    class_mode = 'categorical')\n",
    "\n",
    "#test_datagen = ImageDataGenerator(rescale = 1./255)\n",
    "\n",
    "#test_generator = test_datagen.flow_from_directory('OpenFieldTest/Origin/Test',\n",
    "#                                                  target_size = (40,40), #픽셀 사이즈 선정 필요\n",
    "#                                                  batch_size = 3,\n",
    "#                                                  class_mode = 'categorical')\n",
    "\n",
    "train_datagen = ImageDataGenerator(\n",
    "        rescale=1./255,\n",
    "        shear_range=0.2,\n",
    "        zoom_range=0.2,\n",
    "        horizontal_flip=True)\n",
    "\n",
    "test_datagen = ImageDataGenerator(rescale=1./255)\n",
    "\n",
    "train_generator = train_datagen.flow_from_directory(\n",
    "        'data/training',\n",
    "        target_size=(100, 100),\n",
    "        batch_size=3,\n",
    "        class_mode='categorical')\n",
    "\n",
    "validation_generator = test_datagen.flow_from_directory(\n",
    "        'data/validation',\n",
    "        target_size=(100, 100),\n",
    "        batch_size=3,\n",
    "        class_mode='categorical')\n",
    "\n"
   ]
  },
  {
   "cell_type": "markdown",
   "metadata": {},
   "source": [
    "(cf) 예측할 데이터 샘플 보이기"
   ]
  },
  {
   "cell_type": "code",
   "execution_count": 3,
   "metadata": {},
   "outputs": [
    {
     "name": "stdout",
     "output_type": "stream",
     "text": [
      "<class 'numpy.ndarray'>\n",
      "<class 'skimage.io.collection.ImageCollection'> \n",
      "\n",
      " ['data/training/wt\\\\WT1-0Centre.png', 'data/training/wt\\\\WT1-0Head.png', 'data/training/wt\\\\WT1-1Head.png', 'data/training/wt\\\\WT1-2Head.png', 'data/training/wt\\\\WT1-3Centre.png', 'data/training/wt\\\\WT1-8Centre.png', 'data/training/wt\\\\WT1-8Head.png', 'data/training/wt\\\\WT3-2Head.png', 'data/training/wt\\\\WT3-3Centre.png', 'data/training/wt\\\\WT3-3Head.png', 'data/training/wt\\\\WT3-5Head.png', 'data/training/wt\\\\WT3-8Centre.png', 'data/training/wt\\\\WT3-8Head.png', 'data/training/wt\\\\WT5-1Centre.png', 'data/training/wt\\\\WT5-4Centre.png', 'data/training/wt\\\\WT5-4Head.png', 'data/training/wt\\\\WT5-8Centre.png', 'data/training/wt\\\\WT5-8Head.png', 'data/training/wt\\\\WT5-9Centre.png', 'data/training/wt\\\\WT5-9Head.png', 'data/training/wt\\\\WT7-0Centre.png']\n",
      "<class 'skimage.io.collection.ImageCollection'> \n",
      "\n",
      " ['data/training/wt\\\\WT1-0Centre.png', 'data/training/wt\\\\WT1-0Head.png', 'data/training/wt\\\\WT1-1Head.png', 'data/training/wt\\\\WT1-2Head.png', 'data/training/wt\\\\WT1-3Centre.png', 'data/training/wt\\\\WT1-8Centre.png', 'data/training/wt\\\\WT1-8Head.png', 'data/training/wt\\\\WT3-2Head.png', 'data/training/wt\\\\WT3-3Centre.png', 'data/training/wt\\\\WT3-3Head.png', 'data/training/wt\\\\WT3-5Head.png', 'data/training/wt\\\\WT3-8Centre.png', 'data/training/wt\\\\WT3-8Head.png', 'data/training/wt\\\\WT5-1Centre.png', 'data/training/wt\\\\WT5-4Centre.png', 'data/training/wt\\\\WT5-4Head.png', 'data/training/wt\\\\WT5-8Centre.png', 'data/training/wt\\\\WT5-8Head.png', 'data/training/wt\\\\WT5-9Centre.png', 'data/training/wt\\\\WT5-9Head.png', 'data/training/wt\\\\WT7-0Centre.png']\n"
     ]
    },
    {
     "data": {
      "image/png": "[encoded data removed]",
      "text/plain": [
       "<matplotlib.figure.Figure at 0x20ba907cc50>"
      ]
     },
     "metadata": {},
     "output_type": "display_data"
    },
    {
     "data": {
      "image/png": "[encoded data removed]",
      "text/plain": [
       "<matplotlib.figure.Figure at 0x20ba9a8eb38>"
      ]
     },
     "metadata": {},
     "output_type": "display_data"
    },
    {
     "data": {
      "image/png": "[encoded data removed]",
      "text/plain": [
       "<matplotlib.figure.Figure at 0x20ba9f485f8>"
      ]
     },
     "metadata": {},
     "output_type": "display_data"
    }
   ],
   "source": [
    "# 해결법1\n",
    "from skimage import io\n",
    "\n",
    "image = io.imread('data/Training/WT/WT1-0Centre.png')\n",
    "\n",
    "print(type(image))\n",
    "plt.imshow(image);\n",
    "\n",
    "ic = io.imread_collection('data/training/wt/*.png')\n",
    "\n",
    "print(type(ic), '\\n\\n', ic)\n",
    "\n",
    "f, axes = plt.subplots(nrows=1, ncols=len(ic), figsize=(20,20))\n",
    "\n",
    "for i, image in enumerate(ic):\n",
    "    axes[i].imshow(image, cmap='gray')\n",
    "    axes[i].axis('off')\n",
    "    \n",
    "ec = io.imread_collection('data/training/tg/*.png')\n",
    "\n",
    "print(type(ec), '\\n\\n', ic)\n",
    "\n",
    "f, axes = plt.subplots(nrows=1, ncols=len(ec), figsize=(20,20))\n",
    "\n",
    "for i, image in enumerate(ec):\n",
    "    axes[i].imshow(image, cmap='gray')\n",
    "    axes[i].axis('off')"
   ]
  },
  {
   "cell_type": "code",
   "execution_count": 4,
   "metadata": {},
   "outputs": [],
   "source": [
    "#해결법2\n",
    "#import os\n",
    "#import matplotlib.pyplot as plt\n",
    "#import PIL\n",
    "#%matplotlib inline\n",
    "\n",
    "#rows = 2\n",
    "#os.chdir('training/wt/')\n",
    "#files = os.listdir('training/wt/')\n",
    "\n",
    "#for num, x in enumerate(files):\n",
    "#    img = PIL,Image.open(x)\n",
    "#    plt,subplot(rows,6,num+1)\n",
    "#    plt.title(x.split('.')[0])\n",
    "#    plt.axis('off')\n",
    "#    plt.imshow(img)\n"
   ]
  },
  {
   "cell_type": "code",
   "execution_count": 5,
   "metadata": {},
   "outputs": [
    {
     "data": {
      "image/png": "[encoded data removed]",
      "text/plain": [
       "<matplotlib.figure.Figure at 0x20ba906a630>"
      ]
     },
     "metadata": {},
     "output_type": "display_data"
    }
   ],
   "source": [
    "#해결법3\n",
    "# read image\n",
    "import matplotlib.image as mpimg\n",
    "img1 = mpimg.imread('data/training/wt/WT1-0Centre.png')\n",
    "img2 = mpimg.imread('data/training/wt/WT1-3Centre.png')\n",
    "# plot image\n",
    "plt.figure(1)\n",
    "\n",
    "plt.subplot(1,2,1)\n",
    "plt.imshow(img1)\n",
    "\n",
    "plt.subplot(122)\n",
    "plt.imshow(img2)\n",
    "plt.show()\n"
   ]
  },
  {
   "cell_type": "code",
   "execution_count": 6,
   "metadata": {},
   "outputs": [
    {
     "name": "stdout",
     "output_type": "stream",
     "text": [
      "data/training/TG/TG1-1Centre.png\n",
      "data/training/TG/TG1-4Centre.png\n",
      "data/training/TG/TG1-4Head.png\n",
      "data/training/TG/TG10-1Head.png\n",
      "data/training/TG/TG3-7Centre.png\n",
      "data/training/TG/TG3-9Centre.png\n",
      "data/training/WT/WT1-0Centre.png\n",
      "data/training/WT/WT1-0Head.png\n",
      "data/training/WT/WT1-1Head.png\n",
      "data/training/WT/WT1-2Head.png\n",
      "data/training/WT/WT1-3Centre.png\n",
      "data/training/WT/WT1-8Centre.png\n"
     ]
    },
    {
     "data": {
      "image/png": "[encoded data removed]",
      "text/plain": [
       "<matplotlib.figure.Figure at 0x20bab551828>"
      ]
     },
     "metadata": {},
     "output_type": "display_data"
    },
    {
     "data": {
      "image/png": "[encoded data removed]",
      "text/plain": [
       "<matplotlib.figure.Figure at 0x20bab5bbcc0>"
      ]
     },
     "metadata": {},
     "output_type": "display_data"
    }
   ],
   "source": [
    "#해결법4\n",
    "import os\n",
    "directory=os.listdir('data/training/')\n",
    "for each in directory:\n",
    "    plt.figure()\n",
    "    currentFolder = 'data/training/' + each\n",
    "    for i, file in enumerate(os.listdir(currentFolder)[0:6]):\n",
    "        fullpath = currentFolder+ \"/\" + file\n",
    "        img=mpimg.imread(fullpath)\n",
    "        print(fullpath)\n",
    "        plt.subplots_adjust(wspace = 0.5)\n",
    "        plt.subplot(2,3,i+1)\n",
    "        plt.imshow(img)\n",
    "        #plt.ylabel(file)\n",
    "        #plt.xlabel(file)\n",
    "        plt.title(each)\n",
    "        plt.xticks([]), plt.yticks([])"
   ]
  },
  {
   "cell_type": "code",
   "execution_count": 7,
   "metadata": {},
   "outputs": [],
   "source": [
    "#해결법5\n",
    "#def plot_images():\n",
    "#    folder = 'training/wt/'\n",
    "#    images = os.listdir(folder)\n",
    "#    print(images)\n",
    "#    i = 0\n",
    "#    for image in mages:\n",
    "#        plt.subplot(2,5,i+1)\n",
    "#        im = imread(folder+image)\n",
    "#        i+=1\n",
    "#        imgplot = plt.imshow(im)\n",
    "#    plt.show()\n",
    "#    return\n",
    "\n",
    "#plt.figure(figsize=[40,40])\n",
    "#plt.subplots_adjust(wspace = 0.5)"
   ]
  },
  {
   "cell_type": "code",
   "execution_count": 8,
   "metadata": {},
   "outputs": [],
   "source": [
    "#해결법6\n",
    "#from io import BytesIO\n",
    "#import PIL\n",
    "#form IPython.display import display, Image\n",
    "\n",
    "#def display_img_array(ima):\n",
    "#    im = PIL.Image.fromarray(ima)\n",
    "#    bio = ByteIO()\n",
    "#    im.save(bio, format='png')\n",
    "#    display(Image(bio.getvalue(), format='png'))\n",
    "\n",
    "#for ima in images:\n",
    "#    display_img_array(ima)"
   ]
  },
  {
   "cell_type": "code",
   "execution_count": 9,
   "metadata": {},
   "outputs": [
    {
     "data": {
      "image/png": "[encoded data removed]",
      "text/plain": [
       "<matplotlib.figure.Figure at 0x20ba90709b0>"
      ]
     },
     "metadata": {},
     "output_type": "display_data"
    }
   ],
   "source": [
    "import numpy as np\n",
    "import matplotlib.pyplot as plt\n",
    "\n",
    "w=10\n",
    "h=10\n",
    "fig=plt.figure(figsize=(8, 8))\n",
    "columns = 4\n",
    "rows = 5\n",
    "for i in range(1, columns*rows +1):\n",
    "    img = np.random.randint(10, size=(h,w))\n",
    "    fig.add_subplot(rows, columns, i)\n",
    "    plt.imshow(img)\n",
    "plt.show()"
   ]
  },
  {
   "cell_type": "code",
   "execution_count": 10,
   "metadata": {},
   "outputs": [
    {
     "name": "stdout",
     "output_type": "stream",
     "text": [
      "data/training/TG/TG1-1Centre.png\n",
      "data/training/TG/TG1-4Centre.png\n",
      "data/training/TG/TG1-4Head.png\n",
      "data/training/TG/TG10-1Head.png\n",
      "data/training/TG/TG3-7Centre.png\n",
      "data/training/TG/TG3-9Centre.png\n",
      "data/training/WT/WT1-0Centre.png\n",
      "data/training/WT/WT1-0Head.png\n",
      "data/training/WT/WT1-1Head.png\n",
      "data/training/WT/WT1-2Head.png\n",
      "data/training/WT/WT1-3Centre.png\n",
      "data/training/WT/WT1-8Centre.png\n"
     ]
    },
    {
     "data": {
      "image/png": "[encoded data removed]",
      "text/plain": [
       "<matplotlib.figure.Figure at 0x20baa5b5438>"
      ]
     },
     "metadata": {},
     "output_type": "display_data"
    },
    {
     "data": {
      "image/png": "[encoded data removed]",
      "text/plain": [
       "<matplotlib.figure.Figure at 0x20baa5b5860>"
      ]
     },
     "metadata": {},
     "output_type": "display_data"
    }
   ],
   "source": [
    "#해결법4\n",
    "import numpy as np\n",
    "import matplotlib.pyplot as plt\n",
    "import os\n",
    "\n",
    "directory=os.listdir('data/training/')\n",
    "\n",
    "columns = 2\n",
    "rows = 3\n",
    "\n",
    "for each in directory:\n",
    "    plt.figure()\n",
    "    currentFolder = 'data/training/' + each\n",
    "    \n",
    "    for i, file in enumerate(os.listdir(currentFolder)[0:6]):\n",
    "        fullpath = currentFolder+ \"/\" + file\n",
    "        img=mpimg.imread(fullpath)\n",
    "        print(fullpath)\n",
    "        plt.subplots_adjust(wspace = 0.5)\n",
    "        plt.subplot(columns,rows,i+1)\n",
    "        plt.imshow(img)\n",
    "        #plt.ylabel(file)\n",
    "        #plt.xlabel(file)\n",
    "        plt.title(each)\n",
    "        plt.xticks([]), plt.yticks([])"
   ]
  },
  {
   "cell_type": "code",
   "execution_count": 11,
   "metadata": {},
   "outputs": [],
   "source": [
    "#import matplotlib.image as mpimg\n",
    "#img=mpimg.imread('OpenFieldTest/Origin/Training/WT/WT_1-0_Set2_Head_ctrl401.png')#데이터 입력\n",
    "#img.shape\n",
    "#imgplot = plt.imshow(img)\n",
    "\n",
    "# for i in range(plt_row*plt_col):\n",
    "#    sub_plt = axarr[i/plt_row, i%plt_col]\n",
    "#    sub_plt.axis('off')\n",
    "#    sub_plt.imshow(x_test[i].reshape(width, height))\n",
    "    \n",
    "#    sub_plt_title = 'R: '\n",
    "    \n",
    "#    if y_test[i] :\n",
    "#        sub_plt_title += 'odd '\n",
    "#    else:\n",
    "#        sub_plt_title += 'even '\n",
    "    \n",
    "#    sub_plt.set_title(sub_plt_title)\n",
    "\n",
    "# plt.show()\n",
    "#plt_row = 3\n",
    "#plt_col = 3\n",
    "\n",
    "#plt.rcParams[\"figure.figsize\"] = (10,10)\n",
    "\n",
    "#f, axarr = plt.subplots(plt_row, plt_col)\n",
    "\n",
    "#for i in range(plt_row*plt_col):\n",
    "#    sub_plt = axarr[int(i/plt_row), int(i%plt_col)]\n",
    "#    sub_plt.axis('off')\n",
    "#    sub_plt.imshow(train_generator[i])\n",
    "\n",
    "#plt.show()\n",
    "\n",
    "\n",
    "\n",
    "# Multinary Sample Visualization\n",
    "# %matplotlib inline\n",
    "# import matplotlib.pyplot as plt\n",
    "\n",
    "# plt_row = 5\n",
    "# plt_col = 5\n",
    "\n",
    "# plt.rcParams[\"figure.figsize\"] = (10,10)\n",
    "\n",
    "# f, axarr = plt.subplots(plt_row, plt_col)\n",
    "\n",
    "# for i in range(plt_row*plt_col):\n",
    "\n",
    "#    sub_plt = axarr[i/plt_row, i%plt_col]\n",
    "#    sub_plt.axis('off')\n",
    "#    sub_plt.imshow(x_test[i].reshape(width, height))\n",
    "#    sub_plt_title = 'R: ' + str(np.argmax(y_test[i]))\n",
    "#    sub_plt.set_title(sub_plt_title)\n",
    "\n",
    "# plt.show()"
   ]
  },
  {
   "cell_type": "markdown",
   "metadata": {},
   "source": [
    "(3) 학습 모델 구성하기"
   ]
  },
  {
   "cell_type": "code",
   "execution_count": 21,
   "metadata": {},
   "outputs": [],
   "source": [
    "# Multi2. 모델 구성하기\n",
    "# model = Sequential()\n",
    "# model.add(Conv2D(32, (3, 3), activation='relu', input_shape=(width, height, 1)))\n",
    "# model.add(Conv2D(32, (3, 3), activation='relu'))\n",
    "# model.add(MaxPooling2D(pool_size=(2, 2)))\n",
    "# model.add(Dropout(0.25))\n",
    "# model.add(Conv2D(64, (3, 3), activation='relu'))\n",
    "# model.add(Conv2D(64, (3, 3), activation='relu'))\n",
    "# model.add(MaxPooling2D(pool_size=(2, 2)))\n",
    "# model.add(Dropout(0.25))\n",
    "# model.add(Flatten())\n",
    "# model.add(Dense(256, activation='relu'))\n",
    "# model.add(Dropout(0.5))\n",
    "# model.add(Dense(10, activation='softmax')) # 다중 분류시\n",
    "\n",
    "# Binary2. 모델 구성하기\n",
    "# model = Sequential()\n",
    "# model.add(Conv2D(32, (3, 3), activation='relu', input_shape=(width, height, 1)))\n",
    "# model.add(Conv2D(32, (3, 3), activation='relu'))\n",
    "# model.add(MaxPooling2D(pool_size=(2, 2)))\n",
    "# model.add(Dropout(0.25))\n",
    "# model.add(Conv2D(64, (3, 3), activation='relu'))\n",
    "# model.add(Conv2D(64, (3, 3), activation='relu'))\n",
    "# model.add(MaxPooling2D(pool_size=(2, 2)))\n",
    "# model.add(Dropout(0.25))\n",
    "# model.add(Flatten())\n",
    "# model.add(Dense(256, activation='relu'))\n",
    "# model.add(Dropout(0.5))\n",
    "# model.add(Dense(1, activation='sigmoid')) # 2진 분류시\n",
    "\n",
    "model = Sequential()\n",
    "model.add(Conv2D(32, (3, 3), activation='relu', input_shape=(100, 100, 3)))\n",
    "model.add(MaxPooling2D(pool_size=(2, 2)))\n",
    "model.add(Conv2D(32, (3, 3), activation='relu'))\n",
    "model.add(MaxPooling2D(pool_size=(2, 2)))\n",
    "model.add(Conv2D(32, (3, 3), activation='relu'))\n",
    "model.add(MaxPooling2D(pool_size=(2, 2)))\n",
    "model.add(Flatten())\n",
    "model.add(Dense(128, activation='relu'))\n",
    "model.add(Dense(2, activation='softmax'))\n"
   ]
  },
  {
   "cell_type": "markdown",
   "metadata": {},
   "source": [
    "(4) 모델 학습과정 설정하기"
   ]
  },
  {
   "cell_type": "code",
   "execution_count": 22,
   "metadata": {},
   "outputs": [],
   "source": [
    "# Multinary 3. 모델 학습과정 설정하기\n",
    "#model.compile(loss='categorical_crossentropy', optimizer='sgd', metrics=['accuracy'])\n",
    "\n",
    "# Binary3. 모델 학습과정 설정하기\n",
    "#model.compile(loss='binary_crossentropy', optimizer='sgd', metrics=['accuracy'])\n",
    "\n",
    "model.compile(loss = 'categorical_crossentropy', optimizer = 'adam', metrics=['accuracy'])"
   ]
  },
  {
   "cell_type": "markdown",
   "metadata": {},
   "source": [
    "(5) 학습 모델 표시하기"
   ]
  },
  {
   "cell_type": "code",
   "execution_count": 23,
   "metadata": {},
   "outputs": [
    {
     "name": "stdout",
     "output_type": "stream",
     "text": [
      "_________________________________________________________________\n",
      "Layer (type)                 Output Shape              Param #   \n",
      "=================================================================\n",
      "conv2d_3 (Conv2D)            (None, 98, 98, 32)        896       \n",
      "_________________________________________________________________\n",
      "max_pooling2d_3 (MaxPooling2 (None, 49, 49, 32)        0         \n",
      "_________________________________________________________________\n",
      "conv2d_4 (Conv2D)            (None, 47, 47, 32)        9248      \n",
      "_________________________________________________________________\n",
      "max_pooling2d_4 (MaxPooling2 (None, 23, 23, 32)        0         \n",
      "_________________________________________________________________\n",
      "conv2d_5 (Conv2D)            (None, 21, 21, 32)        9248      \n",
      "_________________________________________________________________\n",
      "max_pooling2d_5 (MaxPooling2 (None, 10, 10, 32)        0         \n",
      "_________________________________________________________________\n",
      "flatten_2 (Flatten)          (None, 3200)              0         \n",
      "_________________________________________________________________\n",
      "dense_3 (Dense)              (None, 128)               409728    \n",
      "_________________________________________________________________\n",
      "dense_4 (Dense)              (None, 2)                 258       \n",
      "=================================================================\n",
      "Total params: 429,378\n",
      "Trainable params: 429,378\n",
      "Non-trainable params: 0\n",
      "_________________________________________________________________\n"
     ]
    }
   ],
   "source": [
    "plot_model(model, to_file='model.png', show_shapes =True, show_layer_names = True, rankdir = 'TB')\n",
    "model.summary()"
   ]
  },
  {
   "cell_type": "markdown",
   "metadata": {},
   "source": [
    "(6) 모델 학습시키기"
   ]
  },
  {
   "cell_type": "code",
   "execution_count": 24,
   "metadata": {},
   "outputs": [
    {
     "name": "stdout",
     "output_type": "stream",
     "text": [
      "Epoch 1/30\n",
      "20/20 [==============================] - 2s 79ms/step - loss: 0.7897 - acc: 0.4499 - val_loss: 0.6942 - val_acc: 0.4000\n",
      "Epoch 2/30\n",
      "20/20 [==============================] - 1s 64ms/step - loss: 0.6984 - acc: 0.5171 - val_loss: 0.6786 - val_acc: 0.5333\n",
      "Epoch 3/30\n",
      "20/20 [==============================] - 1s 67ms/step - loss: 0.6669 - acc: 0.5338 - val_loss: 0.5295 - val_acc: 0.6000\n",
      "Epoch 4/30\n",
      "20/20 [==============================] - 1s 64ms/step - loss: 0.6718 - acc: 0.6336 - val_loss: 0.4457 - val_acc: 0.8667\n",
      "Epoch 5/30\n",
      "20/20 [==============================] - 1s 68ms/step - loss: 0.6285 - acc: 0.5997 - val_loss: 0.5528 - val_acc: 0.6667\n",
      "Epoch 6/30\n",
      "20/20 [==============================] - 1s 67ms/step - loss: 0.5527 - acc: 0.7585 - val_loss: 0.6116 - val_acc: 0.6667\n",
      "Epoch 7/30\n",
      "20/20 [==============================] - 1s 66ms/step - loss: 0.7252 - acc: 0.5088 - val_loss: 0.4455 - val_acc: 0.7333\n",
      "Epoch 8/30\n",
      "20/20 [==============================] - 1s 67ms/step - loss: 0.5459 - acc: 0.7498 - val_loss: 0.3924 - val_acc: 0.8667\n",
      "Epoch 9/30\n",
      "20/20 [==============================] - 1s 67ms/step - loss: 0.4968 - acc: 0.7496 - val_loss: 0.3815 - val_acc: 0.8667\n",
      "Epoch 10/30\n",
      "20/20 [==============================] - 1s 68ms/step - loss: 0.4230 - acc: 0.8165 - val_loss: 0.3112 - val_acc: 0.8000\n",
      "Epoch 11/30\n",
      "20/20 [==============================] - 1s 66ms/step - loss: 0.4515 - acc: 0.7830 - val_loss: 0.3946 - val_acc: 0.7333\n",
      "Epoch 12/30\n",
      "20/20 [==============================] - 1s 69ms/step - loss: 0.4665 - acc: 0.8006 - val_loss: 0.3229 - val_acc: 0.7333\n",
      "Epoch 13/30\n",
      "20/20 [==============================] - 1s 67ms/step - loss: 0.4313 - acc: 0.8084 - val_loss: 0.3579 - val_acc: 0.8000\n",
      "Epoch 14/30\n",
      "20/20 [==============================] - 1s 67ms/step - loss: 0.3803 - acc: 0.8332 - val_loss: 0.3098 - val_acc: 0.8000\n",
      "Epoch 15/30\n",
      "20/20 [==============================] - 1s 70ms/step - loss: 0.2553 - acc: 0.8666 - val_loss: 0.3768 - val_acc: 0.8000\n",
      "Epoch 16/30\n",
      "20/20 [==============================] - 1s 67ms/step - loss: 0.3514 - acc: 0.7919 - val_loss: 0.3474 - val_acc: 0.7333\n",
      "Epoch 17/30\n",
      "20/20 [==============================] - 1s 68ms/step - loss: 0.2506 - acc: 0.8997 - val_loss: 0.5022 - val_acc: 0.8000\n",
      "Epoch 18/30\n",
      "20/20 [==============================] - 1s 68ms/step - loss: 0.2708 - acc: 0.9000 - val_loss: 0.3084 - val_acc: 0.8667\n",
      "Epoch 19/30\n",
      "20/20 [==============================] - 1s 74ms/step - loss: 0.2478 - acc: 0.9165 - val_loss: 0.4361 - val_acc: 0.7333\n",
      "Epoch 20/30\n",
      "20/20 [==============================] - 1s 69ms/step - loss: 0.3202 - acc: 0.8919 - val_loss: 0.3576 - val_acc: 0.8667\n",
      "Epoch 21/30\n",
      "20/20 [==============================] - 1s 67ms/step - loss: 0.2887 - acc: 0.8666 - val_loss: 0.3957 - val_acc: 0.8667\n",
      "Epoch 22/30\n",
      "20/20 [==============================] - 1s 71ms/step - loss: 0.1600 - acc: 0.9332 - val_loss: 0.6523 - val_acc: 0.8000\n",
      "Epoch 23/30\n",
      "20/20 [==============================] - 1s 72ms/step - loss: 0.3003 - acc: 0.8666 - val_loss: 0.2562 - val_acc: 0.8667\n",
      "Epoch 24/30\n",
      "20/20 [==============================] - 2s 77ms/step - loss: 0.1607 - acc: 0.9333 - val_loss: 0.2606 - val_acc: 0.8667\n",
      "Epoch 25/30\n",
      "20/20 [==============================] - 1s 73ms/step - loss: 0.1577 - acc: 0.9332 - val_loss: 0.3520 - val_acc: 0.8667\n",
      "Epoch 26/30\n",
      "20/20 [==============================] - 2s 77ms/step - loss: 0.1053 - acc: 0.9420 - val_loss: 0.4157 - val_acc: 0.8000\n",
      "Epoch 27/30\n",
      "20/20 [==============================] - 1s 71ms/step - loss: 0.1064 - acc: 0.9500 - val_loss: 0.4601 - val_acc: 0.8667\n",
      "Epoch 28/30\n",
      "20/20 [==============================] - 1s 74ms/step - loss: 0.1013 - acc: 0.9587 - val_loss: 0.4989 - val_acc: 0.8667\n",
      "Epoch 29/30\n",
      "20/20 [==============================] - 1s 73ms/step - loss: 0.2408 - acc: 0.9165 - val_loss: 0.3945 - val_acc: 0.8667\n",
      "Epoch 30/30\n",
      "20/20 [==============================] - 1s 74ms/step - loss: 0.1436 - acc: 0.9333 - val_loss: 0.3608 - val_acc: 0.8667\n"
     ]
    }
   ],
   "source": [
    "# Multinary,Binary4. 모델 학습시키기\n",
    "#hist = model.fit(x_train, y_train, epochs=30, batch_size=32, validation_data=(x_val, y_val))\n",
    "\n",
    "class outputImages(keras.callbacks.Callback):\n",
    "    def __init__(self, input_data):\n",
    "        self.input_data = input_data\n",
    "    \n",
    "    def on_epoch_end(self, epoch, logs={}):\n",
    "        if epoch % 10 == 0:\n",
    "            get_model_layers_output_combined_image(self.model, self.input_data)\n",
    "            \n",
    "output_images = outputImages(keras.callbacks.Callback)\n",
    "history = model.fit_generator(\n",
    "        train_generator,\n",
    "        steps_per_epoch=20,\n",
    "        epochs=30,\n",
    "        validation_data=validation_generator,\n",
    "        validation_steps=5)\n",
    "\n"
   ]
  },
  {
   "cell_type": "markdown",
   "metadata": {},
   "source": [
    "(7) 학습모델 모니터링하기"
   ]
  },
  {
   "cell_type": "code",
   "execution_count": 25,
   "metadata": {},
   "outputs": [
    {
     "data": {
      "image/png": "[encoded data removed]",
      "text/plain": [
       "<matplotlib.figure.Figure at 0x20ba9aab898>"
      ]
     },
     "metadata": {},
     "output_type": "display_data"
    }
   ],
   "source": [
    "# Multi&Binary5. 학습과정 살펴보기\n",
    "#%matplotlib inline\n",
    "#import matplotlib.pyplot as plt\n",
    "\n",
    "#fig, loss_ax = plt.subplots()\n",
    "\n",
    "#acc_ax = loss_ax.twinx()\n",
    "\n",
    "#loss_ax.plot(hist.history['loss'], 'y', label='train loss')\n",
    "#loss_ax.plot(hist.history['val_loss'], 'r', label='val loss')\n",
    "#loss_ax.set_ylim([0.0, 0.5])\n",
    "\n",
    "#acc_ax.plot(hist.history['acc'], 'b', label='train acc')\n",
    "#acc_ax.plot(hist.history['val_acc'], 'g', label='val acc')\n",
    "#acc_ax.set_ylim([0.8, 1.0])\n",
    "\n",
    "#loss_ax.set_xlabel('epoch')\n",
    "#loss_ax.set_ylabel('loss')\n",
    "#acc_ax.set_ylabel('accuray')\n",
    "\n",
    "#loss_ax.legend(loc='upper left')\n",
    "#acc_ax.legend(loc='lower left')\n",
    "\n",
    "#plt.show()\n",
    "\n",
    "fig, loss_ax = plt.subplots()\n",
    "\n",
    "acc_ax = loss_ax.twinx()\n",
    "\n",
    "loss_ax.plot(history.history['loss'], 'y', label='train loss')\n",
    "loss_ax.plot(history.history['val_loss'], 'r', label='val loss')\n",
    "\n",
    "acc_ax.plot(history.history['acc'], 'b', label='train acc')\n",
    "acc_ax.plot(history.history['val_acc'], 'g', label='val acc')\n",
    "\n",
    "loss_ax.set_xlabel('epoch')\n",
    "loss_ax.set_ylabel('loss')\n",
    "acc_ax.set_ylabel('accuracy')\n",
    "\n",
    "loss_ax.legend(loc='upper left')\n",
    "acc_ax.legend(loc='lower left')\n",
    "\n",
    "plt.show()"
   ]
  },
  {
   "cell_type": "markdown",
   "metadata": {},
   "source": [
    "(8) 검증모델 테스트하기"
   ]
  },
  {
   "cell_type": "code",
   "execution_count": 26,
   "metadata": {},
   "outputs": [
    {
     "name": "stdout",
     "output_type": "stream",
     "text": [
      "-- Test --\n",
      "{'TG': 0, 'WT': 1}\n",
      "[[0.142 0.858]\n",
      " [1.000 0.000]\n",
      " [1.000 0.000]\n",
      " [0.972 0.028]\n",
      " [0.011 0.989]\n",
      " [0.037 0.963]\n",
      " [0.001 0.999]\n",
      " [1.000 0.000]\n",
      " [0.816 0.184]\n",
      " [1.000 0.000]\n",
      " [0.960 0.040]\n",
      " [0.231 0.769]\n",
      " [0.245 0.755]\n",
      " [0.983 0.017]\n",
      " [0.995 0.005]]\n"
     ]
    }
   ],
   "source": [
    "print(\"-- Test --\")\n",
    "output = model.predict_generator(validation_generator, steps=5)\n",
    "np.set_printoptions(formatter={'float': lambda x: \"{0:0.3f}\".format(x)})\n",
    "print(validation_generator.class_indices)\n",
    "print(output)"
   ]
  },
  {
   "cell_type": "markdown",
   "metadata": {},
   "source": [
    "(9) 모델 평가하기"
   ]
  },
  {
   "cell_type": "code",
   "execution_count": 27,
   "metadata": {},
   "outputs": [
    {
     "name": "stdout",
     "output_type": "stream",
     "text": [
      "-- Evaluate --\n",
      "acc: 86.67%\n"
     ]
    }
   ],
   "source": [
    "#Multinary, Binary 6. 모델 평가하기\n",
    "#loss_and_metrics = model.evaluate(x_test, y_test, batch_size=32)\n",
    "#print('## evaluation loss and_metrics ##')\n",
    "#print(loss_and_metrics)\n",
    "\n",
    "print(\"-- Evaluate --\")\n",
    "scores = model.evaluate_generator(validation_generator, steps=5)\n",
    "print(\"%s: %.2f%%\" %(model.metrics_names[1], scores[1]*100))"
   ]
  },
  {
   "cell_type": "markdown",
   "metadata": {},
   "source": [
    "(10) 모델 구조 및 학습된 모델 가중치 저장하기"
   ]
  },
  {
   "cell_type": "code",
   "execution_count": 28,
   "metadata": {},
   "outputs": [],
   "source": [
    "model.save('ASAP_weight.h5')\n",
    "with open('model_architecture.json', 'w') as f:\n",
    "    f.write(model.to_json())\n"
   ]
  },
  {
   "cell_type": "markdown",
   "metadata": {},
   "source": [
    "(11) 모델 사용하기"
   ]
  },
  {
   "cell_type": "code",
   "execution_count": 29,
   "metadata": {},
   "outputs": [],
   "source": [
    "#Mulyinary 7. 모델 사용하기, 틀린것 만 보이기\n",
    "#yhat_test = model.predict(x_test, batch_size=32)\n",
    "\n",
    "#%matplotlib inline\n",
    "#import matplotlib.pyplot as plt\n",
    "\n",
    "#plt_row = 5\n",
    "#plt_col = 5\n",
    "\n",
    "#plt.rcParams[\"figure.figsize\"] = (10,10)\n",
    "\n",
    "#f, axarr = plt.subplots(plt_row, plt_col)\n",
    "\n",
    "#cnt = 0\n",
    "#i = 0\n",
    "\n",
    "#while cnt < (plt_row*plt_col):\n",
    "    \n",
    "#    if np.argmax(y_test[i]) == np.argmax(yhat_test[i]):\n",
    "#        i += 1\n",
    "#        continue\n",
    "    \n",
    " #   sub_plt = axarr[cnt//plt_row, cnt%plt_col]\n",
    " #   sub_plt.axis('off')\n",
    " #   sub_plt.imshow(x_test[i].reshape(width, height))\n",
    " #   sub_plt_title = 'R: ' + str(np.argmax(y_test[i])) + ' P: ' + str(np.argmax(yhat_test[i]))\n",
    " #   sub_plt.set_title(sub_plt_title)\n",
    "\n",
    "  #  i += 1    \n",
    "  #  cnt += 1\n",
    "\n",
    "#plt.show()\n",
    "\n",
    "#Binary 7. 모델 사용하기, 홀짝\n",
    "#yhat_test = model.predict(x_test, batch_size=32)\n",
    "\n",
    "#%matplotlib inline\n",
    "#import matplotlib.pyplot as plt\n",
    "\n",
    "#plt_row = 5\n",
    "#plt_col = 5\n",
    "\n",
    "#plt.rcParams[\"figure.figsize\"] = (10,10)\n",
    "\n",
    "#f, axarr = plt.subplots(plt_row, plt_col)\n",
    "\n",
    "#for i in range(plt_row*plt_col):\n",
    "#    sub_plt = axarr[int(i/plt_row), int(i%plt_col)]\n",
    "#    sub_plt.axis('off')\n",
    "#    sub_plt.imshow(x_test[i].reshape(width, height))\n",
    "    \n",
    "#    sub_plt_title = 'R: '\n",
    "    \n",
    "#    if y_test[i] :\n",
    "#        sub_plt_title += 'odd '\n",
    "#    else:\n",
    "#        sub_plt_title += 'even '\n",
    "\n",
    "#    sub_plt_title += 'P: '\n",
    "    \n",
    "#    if yhat_test[i] >= 0.5 :\n",
    "#        sub_plt_title += 'odd '\n",
    "#    else:\n",
    "#        sub_plt_title += 'even '        \n",
    "    \n",
    "#    sub_plt.set_title(sub_plt_title)\n",
    "\n",
    "#plt.show()"
   ]
  },
  {
   "cell_type": "markdown",
   "metadata": {},
   "source": [
    "# Execution Phase"
   ]
  },
  {
   "cell_type": "markdown",
   "metadata": {},
   "source": [
    "(1) 사용할 패키지 불러오기"
   ]
  },
  {
   "cell_type": "code",
   "execution_count": 34,
   "metadata": {},
   "outputs": [],
   "source": [
    "import numpy as np\n",
    "import matplotlib.pyplot as plt\n",
    "%matplotlib inline\n",
    "import matplotlib.image as mpimg\n",
    "from keras.preprocessing.image import ImageDataGenerator"
   ]
  },
  {
   "cell_type": "markdown",
   "metadata": {},
   "source": [
    "(2) 예측할 데이터 생성하기"
   ]
  },
  {
   "cell_type": "code",
   "execution_count": 38,
   "metadata": {},
   "outputs": [
    {
     "name": "stdout",
     "output_type": "stream",
     "text": [
      "Found 4 images belonging to 2 classes.\n"
     ]
    }
   ],
   "source": [
    "new_datagen = ImageDataGenerator(rescale = 1./255)\n",
    "\n",
    "new_generator = new_datagen.flow_from_directory('data/Test',\n",
    "                                                  target_size = (100,100),\n",
    "                                                  batch_size = 3,\n",
    "                                                  class_mode = 'categorical')"
   ]
  },
  {
   "cell_type": "markdown",
   "metadata": {},
   "source": [
    "(3) 저장된 학습 모델 및 가중치 불러오기"
   ]
  },
  {
   "cell_type": "code",
   "execution_count": 39,
   "metadata": {},
   "outputs": [],
   "source": [
    "from keras.models import model_from_json\n",
    "\n",
    "#Model reconstruction from JSON fileu5\n",
    "with open('model_architecture.json', 'r') as f:\n",
    "    model = model_from_json(f.read())\n",
    "\n",
    "#    Load weights into the new model\n",
    "model.load_weights('ASAP_weight.h5')"
   ]
  },
  {
   "cell_type": "markdown",
   "metadata": {},
   "source": [
    "(4) 예측하기"
   ]
  },
  {
   "cell_type": "code",
   "execution_count": 41,
   "metadata": {},
   "outputs": [
    {
     "name": "stdout",
     "output_type": "stream",
     "text": [
      "-- Predict --\n",
      "{'TG': 0, 'WT': 1}\n",
      "[[0.057 0.943]\n",
      " [0.868 0.132]\n",
      " [1.000 0.000]\n",
      " [1.000 0.000]]\n"
     ]
    }
   ],
   "source": [
    " print(\"-- Predict --\")\n",
    " output = model.predict_generator(new_generator, steps=2)\n",
    " np.set_printoptions(formatter={'float': lambda x: \"{0:0.3f}\".format(x)})\n",
    " print(new_generator.class_indices)\n",
    " print(output) # It doesn't matter with the result which folder you put the new data.\n"
   ]
  },
  {
   "cell_type": "code",
   "execution_count": null,
   "metadata": {},
   "outputs": [],
   "source": []
  },
  {
   "cell_type": "code",
   "execution_count": null,
   "metadata": {},
   "outputs": [],
   "source": []
  },
  {
   "cell_type": "code",
   "execution_count": null,
   "metadata": {},
   "outputs": [],
   "source": []
  },
  {
   "cell_type": "code",
   "execution_count": null,
   "metadata": {},
   "outputs": [],
   "source": []
  }
 ],
 "metadata": {
  "kernelspec": {
   "display_name": "Python [default]",
   "language": "python",
   "name": "python3"
  },
  "language_info": {
   "codemirror_mode": {
    "name": "ipython",
    "version": 3
   },
   "file_extension": ".py",
   "mimetype": "text/x-python",
   "name": "python",
   "nbconvert_exporter": "python",
   "pygments_lexer": "ipython3",
   "version": "3.6.4"
  }
 },
 "nbformat": 4,
 "nbformat_minor": 2
}
