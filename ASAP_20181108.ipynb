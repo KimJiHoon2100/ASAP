{
 "cells": [
  {
   "cell_type": "markdown",
   "metadata": {},
   "source": [
    "# Mouse disease phase detection program using CNN with Keras api"
   ]
  },
  {
   "cell_type": "markdown",
   "metadata": {},
   "source": [
    "## Training Phase"
   ]
  },
  {
   "cell_type": "markdown",
   "metadata": {},
   "source": [
    "(1) 사용할 패키지 불러오기"
   ]
  },
  {
   "cell_type": "code",
   "execution_count": 188,
   "metadata": {},
   "outputs": [],
   "source": [
    "import numpy as np\n",
    "import keras\n",
    "%matplotlib inline\n",
    "import matplotlib.pyplot as plt\n",
    "from keras.preprocessing.image import ImageDataGenerator\n",
    "from keras.models import Sequential\n",
    "from keras.layers import Dense\n",
    "from keras.layers import Flatten\n",
    "from keras.layers import Activation\n",
    "from keras.layers.convolutional import Conv2D\n",
    "from keras.layers.convolutional import MaxPooling2D\n",
    "from keras.utils.vis_utils import plot_model\n",
    "from keras.models import load_model\n",
    "from keras.utils import np_utils"
   ]
  },
  {
   "cell_type": "markdown",
   "metadata": {},
   "source": [
    "(2) 데이터 셋 불러오기 & 생성하기"
   ]
  },
  {
   "cell_type": "code",
   "execution_count": 189,
   "metadata": {},
   "outputs": [
    {
     "name": "stdout",
     "output_type": "stream",
     "text": [
      "Found 84 images belonging to 2 classes.\n",
      "Found 31 images belonging to 2 classes.\n"
     ]
    }
   ],
   "source": [
    "# 훈련셋과 시험셋 불러오기\n",
    "#(x_train, y_train), (x_test, y_test) = mnist.load_data()\n",
    "#x_train = x_train.reshape(60000, width, height, 1).astype('float32') / 255.0\n",
    "#x_test = x_test.reshape(10000, width, height, 1).astype('float32') / 255.0\n",
    "# 훈련셋과 검증셋 분리 #분리 기점 test 할것 할당 50000 이렇게.\n",
    "#x_val = x_train[50000:]\n",
    "#y_val = y_train[50000:]\n",
    "#x_train = x_train[:50000]\n",
    "#y_train = y_train[:50000]\n",
    "\n",
    "# Multi. 데이터셋 생성하기\n",
    "# 데이터셋 전처리 : one-hot 인코딩\n",
    "#y_train = np_utils.to_categorical(y_train)\n",
    "#y_val = np_utils.to_categorical(y_val)\n",
    "#y_test = np_utils.to_categorical(y_test)\n",
    "\n",
    "# Binary1. 데이터셋 생성하기\n",
    "# 데이터셋 전처리 : 홀수는 1, 짝수는 0으로 변환\n",
    "#y_train = y_train % 2\n",
    "#y_val = y_val % 2\n",
    "#y_test = y_test % 2\n",
    "\n",
    "np.random.seed(3)\n",
    "\n",
    "train_datagen = ImageDataGenerator(rescale = 1./255,\n",
    "                                   rotation_range = 10,\n",
    "                                   width_shift_range = 10,\n",
    "                                   height_shift_range = 0.2,\n",
    "                                   shear_range = 0.7,\n",
    "                                   zoom_range = [0.9, 2.2],\n",
    "                                   horizontal_flip = True,\n",
    "                                   vertical_flip = True,\n",
    "                                   fill_mode = 'nearest')\n",
    "\n",
    "train_generator = train_datagen.flow_from_directory('OpenFieldTest/Train',\n",
    "                                                    target_size = (40,40), #픽셀 사이즈 선정 필요\n",
    "                                                    batch_size = 3,\n",
    "                                                    class_mode = 'categorical')\n",
    "\n",
    "test_datagen = ImageDataGenerator(rescale = 1./255)\n",
    "\n",
    "test_generator = test_datagen.flow_from_directory('OpenFieldTest/Validation',\n",
    "                                                  target_size = (40,40), #픽셀 사이즈 선정 필요\n",
    "                                                  batch_size = 3,\n",
    "                                                  class_mode = 'categorical')"
   ]
  },
  {
   "cell_type": "markdown",
   "metadata": {},
   "source": [
    "(cf) 예측할 데이터 샘플 보이기"
   ]
  },
  {
   "cell_type": "code",
   "execution_count": 190,
   "metadata": {},
   "outputs": [],
   "source": [
    "# Binary Sample Visualization\n",
    "# %matplotlib inline\n",
    "# import matplotlib.pyplot as plt\n",
    "\n",
    "# plt_row = 5\n",
    "# plt_col = 5\n",
    "\n",
    "# plt.rcParams[\"figure.figsize\"] = (10,10)\n",
    "\n",
    "# f, axarr = plt.subplots(plt_row, plt_col)\n",
    "\n",
    "# for i in range(plt_row*plt_col):\n",
    "#    sub_plt = axarr[i/plt_row, i%plt_col]\n",
    "#    sub_plt.axis('off')\n",
    "#    sub_plt.imshow(x_test[i].reshape(width, height))\n",
    "    \n",
    "#    sub_plt_title = 'R: '\n",
    "    \n",
    "#    if y_test[i] :\n",
    "#        sub_plt_title += 'odd '\n",
    "#    else:\n",
    "#        sub_plt_title += 'even '\n",
    "    \n",
    "#    sub_plt.set_title(sub_plt_title)\n",
    "\n",
    "# plt.show()\n",
    "\n",
    "# Multinary Sample Visualization\n",
    "# %matplotlib inline\n",
    "# import matplotlib.pyplot as plt\n",
    "\n",
    "# plt_row = 5\n",
    "# plt_col = 5\n",
    "\n",
    "# plt.rcParams[\"figure.figsize\"] = (10,10)\n",
    "\n",
    "# f, axarr = plt.subplots(plt_row, plt_col)\n",
    "\n",
    "# for i in range(plt_row*plt_col):\n",
    "\n",
    "#    sub_plt = axarr[i/plt_row, i%plt_col]\n",
    "#    sub_plt.axis('off')\n",
    "#    sub_plt.imshow(x_test[i].reshape(width, height))\n",
    "#    sub_plt_title = 'R: ' + str(np.argmax(y_test[i]))\n",
    "#    sub_plt.set_title(sub_plt_title)\n",
    "\n",
    "# plt.show()\n",
    "\n",
    "# Put the image data any folder(label) you want.\n",
    "# img=mpimg.imread ('ASAP/OpenFieldTest/Train/WT/001.jpg')#데이터 입력\n",
    "# img.shape\n",
    "# imgplot = plt.imshow(img)\n",
    "# plt.colorbar()\n",
    "\n",
    "# img2=mpimg.imread ('ASAP/OpenFieldTest/Train/5XFAD/001.jpg')#데이터 입력\n",
    "# img.shape\n",
    "# imgplot = plt.imshow(img2)\n",
    "# plt.colorbar()"
   ]
  },
  {
   "cell_type": "markdown",
   "metadata": {},
   "source": [
    "(3) 학습 모델 구성하기"
   ]
  },
  {
   "cell_type": "code",
   "execution_count": 191,
   "metadata": {},
   "outputs": [],
   "source": [
    "# Multi2. 모델 구성하기\n",
    "# model = Sequential()\n",
    "# model.add(Conv2D(32, (3, 3), activation='relu', input_shape=(width, height, 1)))\n",
    "# model.add(Conv2D(32, (3, 3), activation='relu'))\n",
    "# model.add(MaxPooling2D(pool_size=(2, 2)))\n",
    "# model.add(Dropout(0.25))\n",
    "# model.add(Conv2D(64, (3, 3), activation='relu'))\n",
    "# model.add(Conv2D(64, (3, 3), activation='relu'))\n",
    "# model.add(MaxPooling2D(pool_size=(2, 2)))\n",
    "# model.add(Dropout(0.25))\n",
    "# model.add(Flatten())\n",
    "# model.add(Dense(256, activation='relu'))\n",
    "# model.add(Dropout(0.5))\n",
    "# model.add(Dense(10, activation='softmax')) # 다중 분류시\n",
    "\n",
    "# Binary2. 모델 구성하기\n",
    "# model = Sequential()\n",
    "# model.add(Conv2D(32, (3, 3), activation='relu', input_shape=(width, height, 1)))\n",
    "# model.add(Conv2D(32, (3, 3), activation='relu'))\n",
    "# model.add(MaxPooling2D(pool_size=(2, 2)))\n",
    "# model.add(Dropout(0.25))\n",
    "# model.add(Conv2D(64, (3, 3), activation='relu'))\n",
    "# model.add(Conv2D(64, (3, 3), activation='relu'))\n",
    "# model.add(MaxPooling2D(pool_size=(2, 2)))\n",
    "# model.add(Dropout(0.25))\n",
    "# model.add(Flatten())\n",
    "# model.add(Dense(256, activation='relu'))\n",
    "# model.add(Dropout(0.5))\n",
    "# model.add(Dense(1, activation='sigmoid')) # 2진 분류시\n",
    "\n",
    "model = Sequential()\n",
    "model.add(Conv2D(40, (3, 3), activation='relu', input_shape=(40, 40, 3)))\n",
    "model.add(MaxPooling2D(pool_size=(2, 2)))\n",
    "model.add(Conv2D(40, (3, 3), activation='relu'))\n",
    "model.add(MaxPooling2D(pool_size=(2, 2)))\n",
    "model.add(Flatten())\n",
    "model.add(Dense(128, activation='relu'))\n",
    "model.add(Dense(2, activation='softmax'))"
   ]
  },
  {
   "cell_type": "markdown",
   "metadata": {},
   "source": [
    "(4) 모델 학습과정 설정하기"
   ]
  },
  {
   "cell_type": "code",
   "execution_count": 192,
   "metadata": {},
   "outputs": [],
   "source": [
    "# Multinary 3. 모델 학습과정 설정하기\n",
    "#model.compile(loss='categorical_crossentropy', optimizer='sgd', metrics=['accuracy'])\n",
    "\n",
    "# Binary3. 모델 학습과정 설정하기\n",
    "#model.compile(loss='binary_crossentropy', optimizer='sgd', metrics=['accuracy'])\n",
    "\n",
    "model.compile(loss = 'categorical_crossentropy', optimizer = 'adam', metrics=['accuracy'])"
   ]
  },
  {
   "cell_type": "markdown",
   "metadata": {},
   "source": [
    "(5) 학습 모델 표시하기"
   ]
  },
  {
   "cell_type": "code",
   "execution_count": 193,
   "metadata": {},
   "outputs": [
    {
     "name": "stdout",
     "output_type": "stream",
     "text": [
      "_________________________________________________________________\n",
      "Layer (type)                 Output Shape              Param #   \n",
      "=================================================================\n",
      "conv2d_49 (Conv2D)           (None, 38, 38, 40)        1120      \n",
      "_________________________________________________________________\n",
      "max_pooling2d_47 (MaxPooling (None, 19, 19, 40)        0         \n",
      "_________________________________________________________________\n",
      "conv2d_50 (Conv2D)           (None, 17, 17, 40)        14440     \n",
      "_________________________________________________________________\n",
      "max_pooling2d_48 (MaxPooling (None, 8, 8, 40)          0         \n",
      "_________________________________________________________________\n",
      "flatten_15 (Flatten)         (None, 2560)              0         \n",
      "_________________________________________________________________\n",
      "dense_29 (Dense)             (None, 128)               327808    \n",
      "_________________________________________________________________\n",
      "dense_30 (Dense)             (None, 2)                 258       \n",
      "=================================================================\n",
      "Total params: 343,626\n",
      "Trainable params: 343,626\n",
      "Non-trainable params: 0\n",
      "_________________________________________________________________\n"
     ]
    }
   ],
   "source": [
    "plot_model(model, to_file='model.png', show_shapes =True, show_layer_names = True, rankdir = 'TB')\n",
    "model.summary()"
   ]
  },
  {
   "cell_type": "markdown",
   "metadata": {},
   "source": [
    "(6) 모델 학습시키기"
   ]
  },
  {
   "cell_type": "code",
   "execution_count": 14,
   "metadata": {},
   "outputs": [
    {
     "name": "stdout",
     "output_type": "stream",
     "text": [
      "Epoch 1/100\n",
      "20/20 [==============================] - 0s 25ms/step - loss: 0.6758 - acc: 0.5833 - val_loss: 0.5142 - val_acc: 0.7333\n",
      "Epoch 2/100\n",
      "20/20 [==============================] - 0s 23ms/step - loss: 0.6625 - acc: 0.6167 - val_loss: 0.5122 - val_acc: 0.8000\n",
      "Epoch 3/100\n",
      "20/20 [==============================] - 1s 25ms/step - loss: 0.6316 - acc: 0.6000 - val_loss: 0.5062 - val_acc: 0.8667\n",
      "Epoch 4/100\n",
      "20/20 [==============================] - 0s 23ms/step - loss: 0.6727 - acc: 0.5833 - val_loss: 0.5847 - val_acc: 0.6000\n",
      "Epoch 5/100\n",
      "20/20 [==============================] - 1s 25ms/step - loss: 0.6361 - acc: 0.6500 - val_loss: 0.5193 - val_acc: 0.8000\n",
      "Epoch 6/100\n",
      "20/20 [==============================] - 0s 24ms/step - loss: 0.7172 - acc: 0.5167 - val_loss: 0.5422 - val_acc: 0.8667\n",
      "Epoch 7/100\n",
      "20/20 [==============================] - 0s 22ms/step - loss: 0.6423 - acc: 0.6833 - val_loss: 0.5644 - val_acc: 0.6667\n",
      "Epoch 8/100\n",
      "20/20 [==============================] - ETA: 0s - loss: 0.6292 - acc: 0.607 - 0s 23ms/step - loss: 0.6464 - acc: 0.5667 - val_loss: 0.6246 - val_acc: 0.6667\n",
      "Epoch 9/100\n",
      "20/20 [==============================] - 0s 25ms/step - loss: 0.6601 - acc: 0.6333 - val_loss: 0.5744 - val_acc: 0.6667\n",
      "Epoch 10/100\n",
      "20/20 [==============================] - 0s 25ms/step - loss: 0.6155 - acc: 0.6833 - val_loss: 0.5318 - val_acc: 0.7333\n",
      "Epoch 11/100\n",
      "20/20 [==============================] - 0s 23ms/step - loss: 0.6738 - acc: 0.6333 - val_loss: 0.6226 - val_acc: 0.6667\n",
      "Epoch 12/100\n",
      "20/20 [==============================] - 0s 24ms/step - loss: 0.6560 - acc: 0.6167 - val_loss: 0.5313 - val_acc: 0.7333\n",
      "Epoch 13/100\n",
      "20/20 [==============================] - 0s 24ms/step - loss: 0.6142 - acc: 0.6833 - val_loss: 0.5099 - val_acc: 0.7333\n",
      "Epoch 14/100\n",
      "20/20 [==============================] - 0s 23ms/step - loss: 0.6854 - acc: 0.5500 - val_loss: 0.5213 - val_acc: 0.7333\n",
      "Epoch 15/100\n",
      "20/20 [==============================] - 0s 23ms/step - loss: 0.6561 - acc: 0.6333 - val_loss: 0.4827 - val_acc: 0.8667\n",
      "Epoch 16/100\n",
      "20/20 [==============================] - 0s 24ms/step - loss: 0.6322 - acc: 0.6667 - val_loss: 0.5531 - val_acc: 0.6000\n",
      "Epoch 17/100\n",
      "20/20 [==============================] - 0s 24ms/step - loss: 0.6664 - acc: 0.6000 - val_loss: 0.5714 - val_acc: 0.7333\n",
      "Epoch 18/100\n",
      "20/20 [==============================] - 0s 24ms/step - loss: 0.6626 - acc: 0.6167 - val_loss: 0.5427 - val_acc: 0.8000\n",
      "Epoch 19/100\n",
      "20/20 [==============================] - 0s 23ms/step - loss: 0.6487 - acc: 0.5833 - val_loss: 0.5167 - val_acc: 0.8667\n",
      "Epoch 20/100\n",
      "20/20 [==============================] - 0s 24ms/step - loss: 0.6780 - acc: 0.5500 - val_loss: 0.5317 - val_acc: 0.9333\n",
      "Epoch 21/100\n",
      "20/20 [==============================] - 0s 21ms/step - loss: 0.6408 - acc: 0.6333 - val_loss: 0.5250 - val_acc: 0.9333\n",
      "Epoch 22/100\n",
      "20/20 [==============================] - 0s 22ms/step - loss: 0.6115 - acc: 0.6667 - val_loss: 0.4611 - val_acc: 0.8667\n",
      "Epoch 23/100\n",
      "20/20 [==============================] - 0s 24ms/step - loss: 0.6507 - acc: 0.6167 - val_loss: 0.5252 - val_acc: 0.7333\n",
      "Epoch 24/100\n",
      "20/20 [==============================] - 0s 24ms/step - loss: 0.6535 - acc: 0.6333 - val_loss: 0.4691 - val_acc: 0.9333\n",
      "Epoch 25/100\n",
      "20/20 [==============================] - 0s 22ms/step - loss: 0.6726 - acc: 0.5667 - val_loss: 0.4989 - val_acc: 0.8000\n",
      "Epoch 26/100\n",
      "20/20 [==============================] - 0s 23ms/step - loss: 0.6579 - acc: 0.5167 - val_loss: 0.5020 - val_acc: 0.8000\n",
      "Epoch 27/100\n",
      "20/20 [==============================] - 0s 25ms/step - loss: 0.6136 - acc: 0.6500 - val_loss: 0.5100 - val_acc: 0.7333\n",
      "Epoch 28/100\n",
      "20/20 [==============================] - 0s 21ms/step - loss: 0.6367 - acc: 0.6000 - val_loss: 0.4778 - val_acc: 0.8000\n",
      "Epoch 29/100\n",
      "20/20 [==============================] - 0s 22ms/step - loss: 0.6524 - acc: 0.6833 - val_loss: 0.5131 - val_acc: 0.8000\n",
      "Epoch 30/100\n",
      "20/20 [==============================] - 0s 23ms/step - loss: 0.5545 - acc: 0.7000 - val_loss: 0.4812 - val_acc: 0.8000\n",
      "Epoch 31/100\n",
      "20/20 [==============================] - 0s 24ms/step - loss: 0.6575 - acc: 0.6167 - val_loss: 0.4459 - val_acc: 0.8667\n",
      "Epoch 32/100\n",
      "20/20 [==============================] - 0s 22ms/step - loss: 0.5908 - acc: 0.7000 - val_loss: 0.4498 - val_acc: 0.8667\n",
      "Epoch 33/100\n",
      "20/20 [==============================] - 0s 25ms/step - loss: 0.5884 - acc: 0.6333 - val_loss: 0.4360 - val_acc: 0.7333\n",
      "Epoch 34/100\n",
      "20/20 [==============================] - 0s 24ms/step - loss: 0.7393 - acc: 0.5667 - val_loss: 0.4673 - val_acc: 0.9333\n",
      "Epoch 35/100\n",
      "20/20 [==============================] - 0s 22ms/step - loss: 0.6418 - acc: 0.6167 - val_loss: 0.4844 - val_acc: 0.9333\n",
      "Epoch 36/100\n",
      "20/20 [==============================] - 0s 22ms/step - loss: 0.7080 - acc: 0.6000 - val_loss: 0.5774 - val_acc: 0.8000\n",
      "Epoch 37/100\n",
      "20/20 [==============================] - 0s 24ms/step - loss: 0.6163 - acc: 0.6333 - val_loss: 0.5214 - val_acc: 0.8667\n",
      "Epoch 38/100\n",
      "20/20 [==============================] - 0s 24ms/step - loss: 0.6738 - acc: 0.6167 - val_loss: 0.5226 - val_acc: 0.8000\n",
      "Epoch 39/100\n",
      "20/20 [==============================] - 0s 22ms/step - loss: 0.6208 - acc: 0.6833 - val_loss: 0.5261 - val_acc: 0.8000\n",
      "Epoch 40/100\n",
      "20/20 [==============================] - 0s 25ms/step - loss: 0.6494 - acc: 0.6167 - val_loss: 0.5143 - val_acc: 0.8667\n",
      "Epoch 41/100\n",
      "20/20 [==============================] - 0s 24ms/step - loss: 0.6456 - acc: 0.6167 - val_loss: 0.5125 - val_acc: 0.8000\n",
      "Epoch 42/100\n",
      "20/20 [==============================] - 0s 21ms/step - loss: 0.6272 - acc: 0.6833 - val_loss: 0.5170 - val_acc: 0.8667\n",
      "Epoch 43/100\n",
      "20/20 [==============================] - 0s 22ms/step - loss: 0.5922 - acc: 0.6833 - val_loss: 0.4819 - val_acc: 0.8000\n",
      "Epoch 44/100\n",
      "20/20 [==============================] - 0s 23ms/step - loss: 0.5919 - acc: 0.6833 - val_loss: 0.5012 - val_acc: 0.8000\n",
      "Epoch 45/100\n",
      "20/20 [==============================] - 1s 25ms/step - loss: 0.6420 - acc: 0.5833 - val_loss: 0.5172 - val_acc: 0.8667\n",
      "Epoch 46/100\n",
      "20/20 [==============================] - 0s 22ms/step - loss: 0.6062 - acc: 0.6833 - val_loss: 0.4938 - val_acc: 0.8000\n",
      "Epoch 47/100\n",
      "20/20 [==============================] - 0s 24ms/step - loss: 0.6547 - acc: 0.6167 - val_loss: 0.5060 - val_acc: 0.8000\n",
      "Epoch 48/100\n",
      "20/20 [==============================] - 0s 24ms/step - loss: 0.6332 - acc: 0.6667 - val_loss: 0.4780 - val_acc: 0.8667\n",
      "Epoch 49/100\n",
      "20/20 [==============================] - 0s 22ms/step - loss: 0.6393 - acc: 0.6000 - val_loss: 0.4905 - val_acc: 0.7333\n",
      "Epoch 50/100\n",
      "20/20 [==============================] - 0s 22ms/step - loss: 0.6212 - acc: 0.6333 - val_loss: 0.4895 - val_acc: 0.8000\n",
      "Epoch 51/100\n",
      "20/20 [==============================] - 0s 24ms/step - loss: 0.6446 - acc: 0.6833 - val_loss: 0.4987 - val_acc: 0.7333\n",
      "Epoch 52/100\n",
      "20/20 [==============================] - 0s 24ms/step - loss: 0.6565 - acc: 0.6667 - val_loss: 0.4798 - val_acc: 0.8000\n",
      "Epoch 53/100\n",
      "20/20 [==============================] - 0s 22ms/step - loss: 0.6248 - acc: 0.7000 - val_loss: 0.5062 - val_acc: 0.8000\n",
      "Epoch 54/100\n",
      "20/20 [==============================] - 0s 24ms/step - loss: 0.5815 - acc: 0.6833 - val_loss: 0.4994 - val_acc: 0.7333\n",
      "Epoch 55/100\n",
      "20/20 [==============================] - 0s 24ms/step - loss: 0.7017 - acc: 0.5667 - val_loss: 0.5334 - val_acc: 0.8000\n",
      "Epoch 56/100\n",
      "20/20 [==============================] - 0s 22ms/step - loss: 0.6223 - acc: 0.6667 - val_loss: 0.5225 - val_acc: 0.8000\n",
      "Epoch 57/100\n",
      "20/20 [==============================] - 0s 23ms/step - loss: 0.6022 - acc: 0.7000 - val_loss: 0.5050 - val_acc: 0.7333\n",
      "Epoch 58/100\n",
      "20/20 [==============================] - 0s 24ms/step - loss: 0.6419 - acc: 0.6667 - val_loss: 0.5330 - val_acc: 0.8000\n",
      "Epoch 59/100\n",
      "20/20 [==============================] - 0s 24ms/step - loss: 0.6528 - acc: 0.6333 - val_loss: 0.5432 - val_acc: 0.8667\n",
      "Epoch 60/100\n",
      "20/20 [==============================] - 0s 22ms/step - loss: 0.5764 - acc: 0.7500 - val_loss: 0.5221 - val_acc: 0.8000\n",
      "Epoch 61/100\n",
      "20/20 [==============================] - 0s 25ms/step - loss: 0.6134 - acc: 0.6500 - val_loss: 0.4811 - val_acc: 0.8000\n",
      "Epoch 62/100\n"
     ]
    },
    {
     "name": "stdout",
     "output_type": "stream",
     "text": [
      "20/20 [==============================] - 0s 25ms/step - loss: 0.6637 - acc: 0.6500 - val_loss: 0.4720 - val_acc: 0.8000\n",
      "Epoch 63/100\n",
      "20/20 [==============================] - 0s 23ms/step - loss: 0.6228 - acc: 0.6667 - val_loss: 0.4742 - val_acc: 0.7333\n",
      "Epoch 64/100\n",
      "20/20 [==============================] - 0s 22ms/step - loss: 0.6201 - acc: 0.6667 - val_loss: 0.4709 - val_acc: 0.7333\n",
      "Epoch 65/100\n",
      "20/20 [==============================] - 0s 24ms/step - loss: 0.5974 - acc: 0.7500 - val_loss: 0.4544 - val_acc: 0.7333\n",
      "Epoch 66/100\n",
      "20/20 [==============================] - 1s 26ms/step - loss: 0.6202 - acc: 0.6667 - val_loss: 0.4986 - val_acc: 0.8000\n",
      "Epoch 67/100\n",
      "20/20 [==============================] - 0s 24ms/step - loss: 0.5882 - acc: 0.7000 - val_loss: 0.4843 - val_acc: 0.8000\n",
      "Epoch 68/100\n",
      "20/20 [==============================] - 0s 25ms/step - loss: 0.6218 - acc: 0.6667 - val_loss: 0.4572 - val_acc: 0.7333\n",
      "Epoch 69/100\n",
      "20/20 [==============================] - 0s 24ms/step - loss: 0.5994 - acc: 0.6667 - val_loss: 0.4498 - val_acc: 0.7333\n",
      "Epoch 70/100\n",
      "20/20 [==============================] - 0s 22ms/step - loss: 0.6592 - acc: 0.6000 - val_loss: 0.4797 - val_acc: 0.7333\n",
      "Epoch 71/100\n",
      "20/20 [==============================] - 0s 24ms/step - loss: 0.5642 - acc: 0.6833 - val_loss: 0.4754 - val_acc: 0.7333\n",
      "Epoch 72/100\n",
      "20/20 [==============================] - 0s 24ms/step - loss: 0.6494 - acc: 0.6333 - val_loss: 0.4728 - val_acc: 0.7333\n",
      "Epoch 73/100\n",
      "20/20 [==============================] - 0s 24ms/step - loss: 0.5335 - acc: 0.7667 - val_loss: 0.4406 - val_acc: 0.8000\n",
      "Epoch 74/100\n",
      "20/20 [==============================] - 0s 25ms/step - loss: 0.6244 - acc: 0.6667 - val_loss: 0.4517 - val_acc: 0.7333\n",
      "Epoch 75/100\n",
      "20/20 [==============================] - 0s 24ms/step - loss: 0.6208 - acc: 0.6000 - val_loss: 0.4715 - val_acc: 0.7333\n",
      "Epoch 76/100\n",
      "20/20 [==============================] - 0s 25ms/step - loss: 0.5610 - acc: 0.7333 - val_loss: 0.4633 - val_acc: 0.8000\n",
      "Epoch 77/100\n",
      "20/20 [==============================] - 0s 22ms/step - loss: 0.5880 - acc: 0.6500 - val_loss: 0.5001 - val_acc: 0.8000\n",
      "Epoch 78/100\n",
      "20/20 [==============================] - 0s 23ms/step - loss: 0.5878 - acc: 0.7333 - val_loss: 0.4892 - val_acc: 0.8000\n",
      "Epoch 79/100\n",
      "20/20 [==============================] - 1s 25ms/step - loss: 0.6292 - acc: 0.6500 - val_loss: 0.4891 - val_acc: 0.8000\n",
      "Epoch 80/100\n",
      "20/20 [==============================] - 1s 25ms/step - loss: 0.5804 - acc: 0.7167 - val_loss: 0.4568 - val_acc: 0.7333\n",
      "Epoch 81/100\n",
      "20/20 [==============================] - 0s 23ms/step - loss: 0.6369 - acc: 0.7000 - val_loss: 0.4457 - val_acc: 0.7333\n",
      "Epoch 82/100\n",
      "20/20 [==============================] - 1s 25ms/step - loss: 0.6047 - acc: 0.6667 - val_loss: 0.4635 - val_acc: 0.8000\n",
      "Epoch 83/100\n",
      "20/20 [==============================] - 1s 25ms/step - loss: 0.6426 - acc: 0.6167 - val_loss: 0.4690 - val_acc: 0.7333\n",
      "Epoch 84/100\n",
      "20/20 [==============================] - 0s 23ms/step - loss: 0.6167 - acc: 0.6333 - val_loss: 0.4622 - val_acc: 0.7333\n",
      "Epoch 85/100\n",
      "20/20 [==============================] - 0s 24ms/step - loss: 0.5593 - acc: 0.7500 - val_loss: 0.4595 - val_acc: 0.8000\n",
      "Epoch 86/100\n",
      "20/20 [==============================] - 1s 27ms/step - loss: 0.5913 - acc: 0.6833 - val_loss: 0.4541 - val_acc: 0.7333\n",
      "Epoch 87/100\n",
      "20/20 [==============================] - 1s 25ms/step - loss: 0.6838 - acc: 0.5667 - val_loss: 0.4849 - val_acc: 0.8000\n",
      "Epoch 88/100\n",
      "20/20 [==============================] - 0s 24ms/step - loss: 0.5576 - acc: 0.7500 - val_loss: 0.4591 - val_acc: 0.8000\n",
      "Epoch 89/100\n",
      "20/20 [==============================] - 0s 24ms/step - loss: 0.5519 - acc: 0.6833 - val_loss: 0.4640 - val_acc: 0.8000\n",
      "Epoch 90/100\n",
      "20/20 [==============================] - 0s 24ms/step - loss: 0.6603 - acc: 0.6000 - val_loss: 0.4884 - val_acc: 0.8000\n",
      "Epoch 91/100\n",
      "20/20 [==============================] - 0s 25ms/step - loss: 0.5654 - acc: 0.7000 - val_loss: 0.4572 - val_acc: 0.7333\n",
      "Epoch 92/100\n",
      "20/20 [==============================] - 1s 25ms/step - loss: 0.6879 - acc: 0.6000 - val_loss: 0.4627 - val_acc: 0.8667\n",
      "Epoch 93/100\n",
      "20/20 [==============================] - 1s 26ms/step - loss: 0.6067 - acc: 0.6333 - val_loss: 0.5990 - val_acc: 0.6667\n",
      "Epoch 94/100\n",
      "20/20 [==============================] - 0s 25ms/step - loss: 0.6129 - acc: 0.6500 - val_loss: 0.4920 - val_acc: 0.8667\n",
      "Epoch 95/100\n",
      "20/20 [==============================] - 1s 26ms/step - loss: 0.6046 - acc: 0.6500 - val_loss: 0.4657 - val_acc: 0.9333\n",
      "Epoch 96/100\n",
      "20/20 [==============================] - 1s 28ms/step - loss: 0.6213 - acc: 0.7000 - val_loss: 0.4587 - val_acc: 0.9333\n",
      "Epoch 97/100\n",
      "20/20 [==============================] - 0s 25ms/step - loss: 0.5732 - acc: 0.7333 - val_loss: 0.4437 - val_acc: 0.8000\n",
      "Epoch 98/100\n",
      "20/20 [==============================] - 0s 22ms/step - loss: 0.6316 - acc: 0.6333 - val_loss: 0.4352 - val_acc: 0.8000\n",
      "Epoch 99/100\n",
      "20/20 [==============================] - 0s 23ms/step - loss: 0.6509 - acc: 0.5833 - val_loss: 0.4524 - val_acc: 0.7333\n",
      "Epoch 100/100\n",
      "20/20 [==============================] - 1s 28ms/step - loss: 0.5788 - acc: 0.7833 - val_loss: 0.4695 - val_acc: 0.8000\n"
     ]
    }
   ],
   "source": [
    "# Multinary,Binary4. 모델 학습시키기\n",
    "#hist = model.fit(x_train, y_train, epochs=30, batch_size=32, validation_data=(x_val, y_val))\n",
    "\n",
    "class outputImages(keras.callbacks.Callback):\n",
    "    def __init__(self, input_data):\n",
    "        self.input_data = input_data\n",
    "    \n",
    "    def on_epoch_end(self, epoch, logs={}):\n",
    "        if epoch % 10 == 0:\n",
    "            get_model_layers_output_combined_image(self.model, self.input_data)\n",
    "            \n",
    "output_images = outputImages(keras.callbacks.Callback)\n",
    "history = model.fit_generator(\n",
    "        train_generator,\n",
    "        steps_per_epoch=20,\n",
    "        epochs=100,\n",
    "        validation_data=test_generator,\n",
    "        validation_steps=5)"
   ]
  },
  {
   "cell_type": "markdown",
   "metadata": {},
   "source": [
    "(7) 학습모델 모니터링하기"
   ]
  },
  {
   "cell_type": "code",
   "execution_count": 15,
   "metadata": {},
   "outputs": [
    {
     "data": {
      "image/png": "[encoded data removed]",
      "text/plain": [
       "<matplotlib.figure.Figure at 0x1c518ca29b0>"
      ]
     },
     "metadata": {},
     "output_type": "display_data"
    }
   ],
   "source": [
    "# Multi&Binary5. 학습과정 살펴보기\n",
    "#%matplotlib inline\n",
    "#import matplotlib.pyplot as plt\n",
    "\n",
    "#fig, loss_ax = plt.subplots()\n",
    "\n",
    "#acc_ax = loss_ax.twinx()\n",
    "\n",
    "#loss_ax.plot(hist.history['loss'], 'y', label='train loss')\n",
    "#loss_ax.plot(hist.history['val_loss'], 'r', label='val loss')\n",
    "#loss_ax.set_ylim([0.0, 0.5])\n",
    "\n",
    "#acc_ax.plot(hist.history['acc'], 'b', label='train acc')\n",
    "#acc_ax.plot(hist.history['val_acc'], 'g', label='val acc')\n",
    "#acc_ax.set_ylim([0.8, 1.0])\n",
    "\n",
    "#loss_ax.set_xlabel('epoch')\n",
    "#loss_ax.set_ylabel('loss')\n",
    "#acc_ax.set_ylabel('accuray')\n",
    "\n",
    "#loss_ax.legend(loc='upper left')\n",
    "#acc_ax.legend(loc='lower left')\n",
    "\n",
    "#plt.show()\n",
    "\n",
    "fig, loss_ax = plt.subplots()\n",
    "\n",
    "acc_ax = loss_ax.twinx()\n",
    "\n",
    "loss_ax.plot(history.history['loss'], 'y', label='train loss')\n",
    "loss_ax.plot(history.history['val_loss'], 'r', label='val loss')\n",
    "\n",
    "acc_ax.plot(history.history['acc'], 'b', label='train acc')\n",
    "acc_ax.plot(history.history['val_acc'], 'g', label='val acc')\n",
    "\n",
    "loss_ax.set_xlabel('epoch')\n",
    "loss_ax.set_ylabel('loss')\n",
    "acc_ax.set_ylabel('accuracy')\n",
    "\n",
    "loss_ax.legend(loc='upper left')\n",
    "acc_ax.legend(loc='lower left')\n",
    "\n",
    "plt.show()"
   ]
  },
  {
   "cell_type": "markdown",
   "metadata": {},
   "source": [
    "(8) 검증모델 테스트하기"
   ]
  },
  {
   "cell_type": "code",
   "execution_count": null,
   "metadata": {},
   "outputs": [],
   "source": [
    "#print(\"-- Test --\")\n",
    "#output = model.predict_generator(test_generator, steps=5)\n",
    "#np.set_printoptions(formatter={'float': lambda x: \"{0:0.3f}\".format(x)})\n",
    "#print(test_generator.class_indices)\n",
    "#print(output)"
   ]
  },
  {
   "cell_type": "markdown",
   "metadata": {},
   "source": [
    "(9) 모델 평가하기"
   ]
  },
  {
   "cell_type": "code",
   "execution_count": null,
   "metadata": {},
   "outputs": [],
   "source": [
    "#Multinary, Binary 6. 모델 평가하기\n",
    "#loss_and_metrics = model.evaluate(x_test, y_test, batch_size=32)\n",
    "#print('## evaluation loss and_metrics ##')\n",
    "#print(loss_and_metrics)\n",
    "\n",
    "print(\"-- Evaluate --\")\n",
    "scores = model.evaluate_generator(test_generator, steps=5)\n",
    "print(\"%s: %.2f%%\" %(model.metrics_names[1], scores[1]*100))"
   ]
  },
  {
   "cell_type": "markdown",
   "metadata": {},
   "source": [
    "(10) 모델 구조 및 학습된 모델 가중치 저장하기"
   ]
  },
  {
   "cell_type": "code",
   "execution_count": 181,
   "metadata": {},
   "outputs": [],
   "source": [
    "model.save('ASAP_weight.h5')\n",
    "with open('model_architecture.json', 'w') as f:\n",
    "    f.write(model.to_json())\n"
   ]
  },
  {
   "cell_type": "markdown",
   "metadata": {},
   "source": [
    "(11) 모델 사용하기"
   ]
  },
  {
   "cell_type": "code",
   "execution_count": 134,
   "metadata": {},
   "outputs": [],
   "source": [
    "#Mulyinary 7. 모델 사용하기, 틀린것 만 보이기\n",
    "#yhat_test = model.predict(x_test, batch_size=32)\n",
    "\n",
    "#%matplotlib inline\n",
    "#import matplotlib.pyplot as plt\n",
    "\n",
    "#plt_row = 5\n",
    "#plt_col = 5\n",
    "\n",
    "#plt.rcParams[\"figure.figsize\"] = (10,10)\n",
    "\n",
    "#f, axarr = plt.subplots(plt_row, plt_col)\n",
    "\n",
    "#cnt = 0\n",
    "#i = 0\n",
    "\n",
    "#while cnt < (plt_row*plt_col):\n",
    "    \n",
    "#    if np.argmax(y_test[i]) == np.argmax(yhat_test[i]):\n",
    "#        i += 1\n",
    "#        continue\n",
    "    \n",
    " #   sub_plt = axarr[cnt//plt_row, cnt%plt_col]\n",
    " #   sub_plt.axis('off')\n",
    " #   sub_plt.imshow(x_test[i].reshape(width, height))\n",
    " #   sub_plt_title = 'R: ' + str(np.argmax(y_test[i])) + ' P: ' + str(np.argmax(yhat_test[i]))\n",
    " #   sub_plt.set_title(sub_plt_title)\n",
    "\n",
    "  #  i += 1    \n",
    "  #  cnt += 1\n",
    "\n",
    "#plt.show()\n",
    "\n",
    "#Binary 7. 모델 사용하기, 홀짝\n",
    "#yhat_test = model.predict(x_test, batch_size=32)\n",
    "\n",
    "#%matplotlib inline\n",
    "#import matplotlib.pyplot as plt\n",
    "\n",
    "#plt_row = 5\n",
    "#plt_col = 5\n",
    "\n",
    "#plt.rcParams[\"figure.figsize\"] = (10,10)\n",
    "\n",
    "#f, axarr = plt.subplots(plt_row, plt_col)\n",
    "\n",
    "#for i in range(plt_row*plt_col):\n",
    "#    sub_plt = axarr[int(i/plt_row), int(i%plt_col)]\n",
    "#    sub_plt.axis('off')\n",
    "#    sub_plt.imshow(x_test[i].reshape(width, height))\n",
    "    \n",
    "#    sub_plt_title = 'R: '\n",
    "    \n",
    "#    if y_test[i] :\n",
    "#        sub_plt_title += 'odd '\n",
    "#    else:\n",
    "#        sub_plt_title += 'even '\n",
    "\n",
    "#    sub_plt_title += 'P: '\n",
    "    \n",
    "#    if yhat_test[i] >= 0.5 :\n",
    "#        sub_plt_title += 'odd '\n",
    "#    else:\n",
    "#        sub_plt_title += 'even '        \n",
    "    \n",
    "#    sub_plt.set_title(sub_plt_title)\n",
    "\n",
    "#plt.show()"
   ]
  },
  {
   "cell_type": "markdown",
   "metadata": {},
   "source": [
    "# Execution Phase"
   ]
  },
  {
   "cell_type": "markdown",
   "metadata": {},
   "source": [
    "(1) 사용할 패키지 불러오기"
   ]
  },
  {
   "cell_type": "code",
   "execution_count": 161,
   "metadata": {},
   "outputs": [],
   "source": [
    "import numpy as np\n",
    "import matplotlib.pyplot as plt\n",
    "%matplotlib inline\n",
    "import matplotlib.image as mpimg\n",
    "from keras.preprocessing.image import ImageDataGenerator"
   ]
  },
  {
   "cell_type": "markdown",
   "metadata": {},
   "source": [
    "(2) 예측할 데이터 생성하기"
   ]
  },
  {
   "cell_type": "code",
   "execution_count": 162,
   "metadata": {},
   "outputs": [
    {
     "name": "stdout",
     "output_type": "stream",
     "text": [
      "Found 1 images belonging to 2 classes.\n"
     ]
    }
   ],
   "source": [
    "new_datagen = ImageDataGenerator(rescale = 1./255)\n",
    "\n",
    "new_generator = new_datagen.flow_from_directory('OpenFieldTest/New',\n",
    "                                                  target_size = (32,32),\n",
    "                                                  batch_size = 3,\n",
    "                                                class_mode = 'categorical')"
   ]
  },
  {
   "cell_type": "markdown",
   "metadata": {},
   "source": [
    "(3) 저장된 학습 모델 및 가중치 불러오기"
   ]
  },
  {
   "cell_type": "code",
   "execution_count": 163,
   "metadata": {},
   "outputs": [],
   "source": [
    "from keras.models import model_from_json\n",
    "\n",
    "#Model reconstruction from JSON file\n",
    "with open('model_architecture.json', 'r') as f:\n",
    "    model = model_from_json(f.read())\n",
    "\n",
    "    #Load weights into the new model\n",
    "    model.load_weights('ASAP_weight.h5')"
   ]
  },
  {
   "cell_type": "markdown",
   "metadata": {},
   "source": [
    "(4) 예측하기"
   ]
  },
  {
   "cell_type": "code",
   "execution_count": 164,
   "metadata": {},
   "outputs": [
    {
     "name": "stdout",
     "output_type": "stream",
     "text": [
      "-- Predict --\n"
     ]
    },
    {
     "ename": "ValueError",
     "evalue": "Error when checking : expected conv2d_45_input to have shape (None, 40, 40, 3) but got array with shape (1, 32, 32, 3)",
     "output_type": "error",
     "traceback": [
      "\u001b[1;31m---------------------------------------------------------------------------\u001b[0m",
      "\u001b[1;31mValueError\u001b[0m                                Traceback (most recent call last)",
      "\u001b[1;32m<ipython-input-164-233def0599e9>\u001b[0m in \u001b[0;36m<module>\u001b[1;34m()\u001b[0m\n\u001b[0;32m      1\u001b[0m \u001b[0mprint\u001b[0m\u001b[1;33m(\u001b[0m\u001b[1;34m\"-- Predict --\"\u001b[0m\u001b[1;33m)\u001b[0m\u001b[1;33m\u001b[0m\u001b[0m\n\u001b[1;32m----> 2\u001b[1;33m \u001b[0moutput\u001b[0m \u001b[1;33m=\u001b[0m \u001b[0mmodel\u001b[0m\u001b[1;33m.\u001b[0m\u001b[0mpredict_generator\u001b[0m\u001b[1;33m(\u001b[0m\u001b[0mnew_generator\u001b[0m\u001b[1;33m,\u001b[0m \u001b[0msteps\u001b[0m\u001b[1;33m=\u001b[0m\u001b[1;36m1\u001b[0m\u001b[1;33m)\u001b[0m\u001b[1;33m\u001b[0m\u001b[0m\n\u001b[0m\u001b[0;32m      3\u001b[0m \u001b[0mnp\u001b[0m\u001b[1;33m.\u001b[0m\u001b[0mset_printoptions\u001b[0m\u001b[1;33m(\u001b[0m\u001b[0mformatter\u001b[0m\u001b[1;33m=\u001b[0m\u001b[1;33m{\u001b[0m\u001b[1;34m'float'\u001b[0m\u001b[1;33m:\u001b[0m \u001b[1;32mlambda\u001b[0m \u001b[0mx\u001b[0m\u001b[1;33m:\u001b[0m \u001b[1;34m\"{0:0.3f}\"\u001b[0m\u001b[1;33m.\u001b[0m\u001b[0mformat\u001b[0m\u001b[1;33m(\u001b[0m\u001b[0mx\u001b[0m\u001b[1;33m)\u001b[0m\u001b[1;33m}\u001b[0m\u001b[1;33m)\u001b[0m\u001b[1;33m\u001b[0m\u001b[0m\n\u001b[0;32m      4\u001b[0m \u001b[0mprint\u001b[0m\u001b[1;33m(\u001b[0m\u001b[0mnew_generator\u001b[0m\u001b[1;33m.\u001b[0m\u001b[0mclass_indices\u001b[0m\u001b[1;33m)\u001b[0m\u001b[1;33m\u001b[0m\u001b[0m\n\u001b[0;32m      5\u001b[0m \u001b[0mprint\u001b[0m\u001b[1;33m(\u001b[0m\u001b[0moutput\u001b[0m\u001b[1;33m)\u001b[0m \u001b[1;31m# It doesn't matter with the result which folder you put the new data.\u001b[0m\u001b[1;33m\u001b[0m\u001b[0m\n",
      "\u001b[1;32mC:\\ProgramData\\Anaconda3\\lib\\site-packages\\keras\\legacy\\interfaces.py\u001b[0m in \u001b[0;36mwrapper\u001b[1;34m(*args, **kwargs)\u001b[0m\n\u001b[0;32m     89\u001b[0m                 warnings.warn('Update your `' + object_name +\n\u001b[0;32m     90\u001b[0m                               '` call to the Keras 2 API: ' + signature, stacklevel=2)\n\u001b[1;32m---> 91\u001b[1;33m             \u001b[1;32mreturn\u001b[0m \u001b[0mfunc\u001b[0m\u001b[1;33m(\u001b[0m\u001b[1;33m*\u001b[0m\u001b[0margs\u001b[0m\u001b[1;33m,\u001b[0m \u001b[1;33m**\u001b[0m\u001b[0mkwargs\u001b[0m\u001b[1;33m)\u001b[0m\u001b[1;33m\u001b[0m\u001b[0m\n\u001b[0m\u001b[0;32m     92\u001b[0m         \u001b[0mwrapper\u001b[0m\u001b[1;33m.\u001b[0m\u001b[0m_original_function\u001b[0m \u001b[1;33m=\u001b[0m \u001b[0mfunc\u001b[0m\u001b[1;33m\u001b[0m\u001b[0m\n\u001b[0;32m     93\u001b[0m         \u001b[1;32mreturn\u001b[0m \u001b[0mwrapper\u001b[0m\u001b[1;33m\u001b[0m\u001b[0m\n",
      "\u001b[1;32mC:\\ProgramData\\Anaconda3\\lib\\site-packages\\keras\\models.py\u001b[0m in \u001b[0;36mpredict_generator\u001b[1;34m(self, generator, steps, max_queue_size, workers, use_multiprocessing, verbose)\u001b[0m\n\u001b[0;32m   1351\u001b[0m                                             \u001b[0mworkers\u001b[0m\u001b[1;33m=\u001b[0m\u001b[0mworkers\u001b[0m\u001b[1;33m,\u001b[0m\u001b[1;33m\u001b[0m\u001b[0m\n\u001b[0;32m   1352\u001b[0m                                             \u001b[0muse_multiprocessing\u001b[0m\u001b[1;33m=\u001b[0m\u001b[0muse_multiprocessing\u001b[0m\u001b[1;33m,\u001b[0m\u001b[1;33m\u001b[0m\u001b[0m\n\u001b[1;32m-> 1353\u001b[1;33m                                             verbose=verbose)\n\u001b[0m\u001b[0;32m   1354\u001b[0m \u001b[1;33m\u001b[0m\u001b[0m\n\u001b[0;32m   1355\u001b[0m     \u001b[1;32mdef\u001b[0m \u001b[0mget_config\u001b[0m\u001b[1;33m(\u001b[0m\u001b[0mself\u001b[0m\u001b[1;33m)\u001b[0m\u001b[1;33m:\u001b[0m\u001b[1;33m\u001b[0m\u001b[0m\n",
      "\u001b[1;32mC:\\ProgramData\\Anaconda3\\lib\\site-packages\\keras\\legacy\\interfaces.py\u001b[0m in \u001b[0;36mwrapper\u001b[1;34m(*args, **kwargs)\u001b[0m\n\u001b[0;32m     89\u001b[0m                 warnings.warn('Update your `' + object_name +\n\u001b[0;32m     90\u001b[0m                               '` call to the Keras 2 API: ' + signature, stacklevel=2)\n\u001b[1;32m---> 91\u001b[1;33m             \u001b[1;32mreturn\u001b[0m \u001b[0mfunc\u001b[0m\u001b[1;33m(\u001b[0m\u001b[1;33m*\u001b[0m\u001b[0margs\u001b[0m\u001b[1;33m,\u001b[0m \u001b[1;33m**\u001b[0m\u001b[0mkwargs\u001b[0m\u001b[1;33m)\u001b[0m\u001b[1;33m\u001b[0m\u001b[0m\n\u001b[0m\u001b[0;32m     92\u001b[0m         \u001b[0mwrapper\u001b[0m\u001b[1;33m.\u001b[0m\u001b[0m_original_function\u001b[0m \u001b[1;33m=\u001b[0m \u001b[0mfunc\u001b[0m\u001b[1;33m\u001b[0m\u001b[0m\n\u001b[0;32m     93\u001b[0m         \u001b[1;32mreturn\u001b[0m \u001b[0mwrapper\u001b[0m\u001b[1;33m\u001b[0m\u001b[0m\n",
      "\u001b[1;32mC:\\ProgramData\\Anaconda3\\lib\\site-packages\\keras\\engine\\training.py\u001b[0m in \u001b[0;36mpredict_generator\u001b[1;34m(self, generator, steps, max_queue_size, workers, use_multiprocessing, verbose)\u001b[0m\n\u001b[0;32m   2508\u001b[0m                     \u001b[0mx\u001b[0m \u001b[1;33m=\u001b[0m \u001b[0mgenerator_output\u001b[0m\u001b[1;33m\u001b[0m\u001b[0m\n\u001b[0;32m   2509\u001b[0m \u001b[1;33m\u001b[0m\u001b[0m\n\u001b[1;32m-> 2510\u001b[1;33m                 \u001b[0mouts\u001b[0m \u001b[1;33m=\u001b[0m \u001b[0mself\u001b[0m\u001b[1;33m.\u001b[0m\u001b[0mpredict_on_batch\u001b[0m\u001b[1;33m(\u001b[0m\u001b[0mx\u001b[0m\u001b[1;33m)\u001b[0m\u001b[1;33m\u001b[0m\u001b[0m\n\u001b[0m\u001b[0;32m   2511\u001b[0m                 \u001b[1;32mif\u001b[0m \u001b[1;32mnot\u001b[0m \u001b[0misinstance\u001b[0m\u001b[1;33m(\u001b[0m\u001b[0mouts\u001b[0m\u001b[1;33m,\u001b[0m \u001b[0mlist\u001b[0m\u001b[1;33m)\u001b[0m\u001b[1;33m:\u001b[0m\u001b[1;33m\u001b[0m\u001b[0m\n\u001b[0;32m   2512\u001b[0m                     \u001b[0mouts\u001b[0m \u001b[1;33m=\u001b[0m \u001b[1;33m[\u001b[0m\u001b[0mouts\u001b[0m\u001b[1;33m]\u001b[0m\u001b[1;33m\u001b[0m\u001b[0m\n",
      "\u001b[1;32mC:\\ProgramData\\Anaconda3\\lib\\site-packages\\keras\\engine\\training.py\u001b[0m in \u001b[0;36mpredict_on_batch\u001b[1;34m(self, x)\u001b[0m\n\u001b[0;32m   1937\u001b[0m         \"\"\"\n\u001b[0;32m   1938\u001b[0m         x = _standardize_input_data(x, self._feed_input_names,\n\u001b[1;32m-> 1939\u001b[1;33m                                     self._feed_input_shapes)\n\u001b[0m\u001b[0;32m   1940\u001b[0m         \u001b[1;32mif\u001b[0m \u001b[0mself\u001b[0m\u001b[1;33m.\u001b[0m\u001b[0muses_learning_phase\u001b[0m \u001b[1;32mand\u001b[0m \u001b[1;32mnot\u001b[0m \u001b[0misinstance\u001b[0m\u001b[1;33m(\u001b[0m\u001b[0mK\u001b[0m\u001b[1;33m.\u001b[0m\u001b[0mlearning_phase\u001b[0m\u001b[1;33m(\u001b[0m\u001b[1;33m)\u001b[0m\u001b[1;33m,\u001b[0m \u001b[0mint\u001b[0m\u001b[1;33m)\u001b[0m\u001b[1;33m:\u001b[0m\u001b[1;33m\u001b[0m\u001b[0m\n\u001b[0;32m   1941\u001b[0m             \u001b[0mins\u001b[0m \u001b[1;33m=\u001b[0m \u001b[0mx\u001b[0m \u001b[1;33m+\u001b[0m \u001b[1;33m[\u001b[0m\u001b[1;36m0.\u001b[0m\u001b[1;33m]\u001b[0m\u001b[1;33m\u001b[0m\u001b[0m\n",
      "\u001b[1;32mC:\\ProgramData\\Anaconda3\\lib\\site-packages\\keras\\engine\\training.py\u001b[0m in \u001b[0;36m_standardize_input_data\u001b[1;34m(data, names, shapes, check_batch_axis, exception_prefix)\u001b[0m\n\u001b[0;32m    121\u001b[0m                             \u001b[1;34m': expected '\u001b[0m \u001b[1;33m+\u001b[0m \u001b[0mnames\u001b[0m\u001b[1;33m[\u001b[0m\u001b[0mi\u001b[0m\u001b[1;33m]\u001b[0m \u001b[1;33m+\u001b[0m \u001b[1;34m' to have shape '\u001b[0m \u001b[1;33m+\u001b[0m\u001b[1;33m\u001b[0m\u001b[0m\n\u001b[0;32m    122\u001b[0m                             \u001b[0mstr\u001b[0m\u001b[1;33m(\u001b[0m\u001b[0mshape\u001b[0m\u001b[1;33m)\u001b[0m \u001b[1;33m+\u001b[0m \u001b[1;34m' but got array with shape '\u001b[0m \u001b[1;33m+\u001b[0m\u001b[1;33m\u001b[0m\u001b[0m\n\u001b[1;32m--> 123\u001b[1;33m                             str(data_shape))\n\u001b[0m\u001b[0;32m    124\u001b[0m     \u001b[1;32mreturn\u001b[0m \u001b[0mdata\u001b[0m\u001b[1;33m\u001b[0m\u001b[0m\n\u001b[0;32m    125\u001b[0m \u001b[1;33m\u001b[0m\u001b[0m\n",
      "\u001b[1;31mValueError\u001b[0m: Error when checking : expected conv2d_45_input to have shape (None, 40, 40, 3) but got array with shape (1, 32, 32, 3)"
     ]
    }
   ],
   "source": [
    "print(\"-- Predict --\")\n",
    "output = model.predict_generator(new_generator, steps=1)\n",
    "np.set_printoptions(formatter={'float': lambda x: \"{0:0.3f}\".format(x)})\n",
    "print(new_generator.class_indices)\n",
    "print(output) # It doesn't matter with the result which folder you put the new data."
   ]
  },
  {
   "cell_type": "code",
   "execution_count": null,
   "metadata": {},
   "outputs": [],
   "source": []
  },
  {
   "cell_type": "code",
   "execution_count": null,
   "metadata": {},
   "outputs": [],
   "source": []
  }
 ],
 "metadata": {
  "kernelspec": {
   "display_name": "Python [default]",
   "language": "python",
   "name": "python3"
  },
  "language_info": {
   "codemirror_mode": {
    "name": "ipython",
    "version": 3
   },
   "file_extension": ".py",
   "mimetype": "text/x-python",
   "name": "python",
   "nbconvert_exporter": "python",
   "pygments_lexer": "ipython3",
   "version": "3.6.4"
  }
 },
 "nbformat": 4,
 "nbformat_minor": 2
}
